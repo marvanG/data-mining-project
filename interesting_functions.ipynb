{
 "cells": [
  {
   "cell_type": "code",
   "execution_count": null,
   "metadata": {},
   "outputs": [],
   "source": [
    "import ee\n",
    "import geemap\n",
    "ee.Initialize()"
   ]
  },
  {
   "cell_type": "markdown",
   "metadata": {},
   "source": [
    "# Translate code from javascript to python"
   ]
  },
  {
   "cell_type": "code",
   "execution_count": null,
   "metadata": {},
   "outputs": [],
   "source": [
    "javascript_code = \"\"\"\n",
    "// Sample the image\n",
    "var sampledFeatures = ndviDifferenceImage.sample({\n",
    "  scale: 1000 // Set scale to 1km to match MODIS resolution\n",
    "});\n",
    "\n",
    "// Convert feature collection back to image with NDVI values\n",
    "var sampledImage = ee.Image().paint({\n",
    "  featureCollection: sampledFeatures,\n",
    "  color: 'NDVI', // Use the NDVI property from the features\n",
    "  width: 1 // This will paint each feature as a 1 pixel wide point\n",
    "});\n",
    "\n",
    "// Now you can visualize `sampledImage` on the map\n",
    "\n",
    "\n",
    "\"\"\"\n",
    "\n",
    "# Translate\n",
    "lines = geemap.js_snippet_to_py(\n",
    "    javascript_code, add_new_cell=False,\n",
    "    import_ee=True, import_geemap=True, show_map=True)\n",
    "for line in lines:\n",
    "    print(line.rstrip())"
   ]
  },
  {
   "cell_type": "markdown",
   "metadata": {},
   "source": [
    "# Convert geemap to pandas df"
   ]
  },
  {
   "cell_type": "code",
   "execution_count": null,
   "metadata": {},
   "outputs": [],
   "source": [
    "terraclimate = ee.ImageCollection('IDAHO_EPSCOR/TERRACLIMATE')\n",
    "tmax = terraclimate.select('tmmx')\n",
    "\n",
    "geometry = ee.Geometry.Point([77.57738128916243, 12.964758918835752])\n",
    "\n",
    "def scale_image(image):\n",
    "  return ee.Image(image).multiply(0.1)\\\n",
    "    .copyProperties(image, ['system:time_start'])\n",
    "\n",
    "tmaxScaled = tmax.map(scale_image)\n",
    "\n",
    "filtered = tmaxScaled.filter(ee.Filter.date('2019-01-01', '2020-01-01')) \\\n",
    "                     .filter(ee.Filter.bounds(geometry))\n",
    "\n",
    "def extract_data(image):\n",
    "    stats = image.reduceRegion(**{ \n",
    "        'reducer':ee.Reducer.mean(),\n",
    "        'geometry':geometry,\n",
    "        'scale':5000\n",
    "    })\n",
    "    properties = {\n",
    "        'month': image.get('system:index'),\n",
    "        'tmmx': stats.get('tmmx')\n",
    "    }\n",
    "    return ee.Feature(None, properties)\n",
    "\n",
    "data = ee.FeatureCollection(filtered.map(extract_data))\n",
    "print(data.size().getInfo())\n",
    "\n",
    "from geemap import chart\n",
    "options = {\n",
    "    'title': 'Max Monthly Temperature at Bangalore', \n",
    "    'legend_location': 'top-right',\n",
    "    'height': '500px',\n",
    "    'ylabel': 'Temperature (C)',\n",
    "    'xlabel': 'Date',\n",
    "    'colors': ['blue']\n",
    "}\n",
    "\n",
    "df = geemap.ee_to_pandas(data)\n",
    "print(df.head())"
   ]
  }
 ],
 "metadata": {
  "kernelspec": {
   "display_name": "Python 3",
   "language": "python",
   "name": "python3"
  },
  "language_info": {
   "codemirror_mode": {
    "name": "ipython",
    "version": 3
   },
   "file_extension": ".py",
   "mimetype": "text/x-python",
   "name": "python",
   "nbconvert_exporter": "python",
   "pygments_lexer": "ipython3",
   "version": "3.8.10"
  },
  "orig_nbformat": 4
 },
 "nbformat": 4,
 "nbformat_minor": 2
}
