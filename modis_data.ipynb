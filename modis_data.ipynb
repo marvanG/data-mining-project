{
 "cells": [
  {
   "cell_type": "markdown",
   "metadata": {},
   "source": [
    "# NASA MODIS green data"
   ]
  },
  {
   "cell_type": "code",
   "execution_count": 1,
   "metadata": {},
   "outputs": [],
   "source": [
    "# Initialize Earth Engine\n",
    "import ee\n",
    "ee.Initialize()"
   ]
  },
  {
   "cell_type": "code",
   "execution_count": 4,
   "metadata": {},
   "outputs": [
    {
     "data": {
      "application/vnd.jupyter.widget-view+json": {
       "model_id": "c612a60f788d4ca98509d890202d1f13",
       "version_major": 2,
       "version_minor": 0
      },
      "text/plain": [
       "Map(center=[4.075891298132545e-31, 0], controls=(WidgetControl(options=['position', 'transparent_bg'], widget=…"
      ]
     },
     "execution_count": 4,
     "metadata": {},
     "output_type": "execute_result"
    }
   ],
   "source": [
    "import geemap\n",
    "\n",
    "# Define an area of interest (optional). Here, we'll use the entire world.\n",
    "AOI = ee.Geometry.Rectangle([-180, -90, 180, 90])\n",
    "\n",
    "# Fetch the MODIS NDVI dataset for a given date range\n",
    "start_date = '2000-06-01'\n",
    "end_date = '2010-07-01'\n",
    "MODIS_NDVI = ee.ImageCollection('MODIS/061/MOD13A2').filterDate(ee.Date(start_date), ee.Date(end_date)).select('NDVI')\n",
    "\n",
    "# Calculate the mean NDVI for the date range\n",
    "mean_NDVI = MODIS_NDVI.mean()\n",
    "\n",
    "# Define visualization parameters\n",
    "vis_params = {\n",
    "    'min': 0,\n",
    "    'max': 9000,\n",
    "    'palette': ['red', 'yellow', 'green', 'darkgreen', 'blue'],\n",
    "    'breakpoints': [0, 3000, 6000, 8500, 9000]\n",
    "}\n",
    "\n",
    "# Create a map and add the NDVI layer\n",
    "Map = geemap.Map()\n",
    "Map.centerObject(AOI, 2)  # Center the map to our area of interest and set zoom level\n",
    "Map.addLayer(mean_NDVI, vis_params, 'Mean NDVI')\n",
    "Map.addLayerControl()  # This will add a layer control to toggle layers\n",
    "Map.add_colorbar(vis_params, label=\"NDVI\")\n",
    "Map\n",
    "\n",
    "\n"
   ]
  },
  {
   "cell_type": "code",
   "execution_count": 3,
   "metadata": {},
   "outputs": [
    {
     "data": {
      "application/vnd.jupyter.widget-view+json": {
       "model_id": "901702a4a31949fb9e36cd122f8ff48a",
       "version_major": 2,
       "version_minor": 0
      },
      "text/plain": [
       "Map(center=[4.075891298132545e-31, 0], controls=(WidgetControl(options=['position', 'transparent_bg'], widget=…"
      ]
     },
     "execution_count": 3,
     "metadata": {},
     "output_type": "execute_result"
    }
   ],
   "source": [
    "import geemap\n",
    "\n",
    "# Define an area of interest (optional). Here, we'll use the entire world.\n",
    "AOI = ee.Geometry.Rectangle([-180, -90, 180, 90])\n",
    "\n",
    "# Fetch the MODIS NDVI dataset for a given date range\n",
    "start_date = '2022-06-01'\n",
    "end_date = '2022-07-01'\n",
    "MODIS_NDVI = ee.ImageCollection('MODIS/061/MOD13A2').filterDate(ee.Date(start_date), ee.Date(end_date)).select('NDVI')\n",
    "\n",
    "# Calculate the mean NDVI for the date range\n",
    "mean_NDVI = MODIS_NDVI.mean()\n",
    "\n",
    "# Define visualization parameters\n",
    "vis_params = {\n",
    "    'min': 0,\n",
    "    'max': 9000,\n",
    "    'palette': ['red', 'yellow', 'green', 'darkgreen', 'blue'],\n",
    "    'breakpoints': [0, 3000, 6000, 8500, 9000]\n",
    "}\n",
    "\n",
    "# Create a map and add the NDVI layer\n",
    "Map = geemap.Map()\n",
    "Map.centerObject(AOI, 2)  # Center the map to our area of interest and set zoom level\n",
    "Map.addLayer(mean_NDVI, vis_params, 'Mean NDVI')\n",
    "Map.addLayerControl()  # This will add a layer control to toggle layers\n",
    "Map.add_colorbar(vis_params, label=\"NDVI\")\n",
    "Map\n"
   ]
  },
  {
   "cell_type": "code",
   "execution_count": 5,
   "metadata": {},
   "outputs": [
    {
     "name": "stdout",
     "output_type": "stream",
     "text": [
      "{'type': 'Image', 'bands': [{'id': 'NDVI', 'data_type': {'type': 'PixelType', 'precision': 'double', 'min': -32768, 'max': 32767}, 'crs': 'EPSG:4326', 'crs_transform': [1, 0, 0, 0, 1, 0]}]}\n"
     ]
    }
   ],
   "source": [
    "# info\n",
    "print(mean_NDVI.getInfo())"
   ]
  },
  {
   "cell_type": "markdown",
   "metadata": {},
   "source": [
    "# Look at difference between 2000 and 2022\n"
   ]
  },
  {
   "cell_type": "code",
   "execution_count": 7,
   "metadata": {},
   "outputs": [
    {
     "name": "stdout",
     "output_type": "stream",
     "text": [
      "Fetching data for 2000-06-01 to 2000-08-31\n",
      "Fetching data for 2001-06-01 to 2001-08-31\n",
      "Fetching data for 2002-06-01 to 2002-08-31\n",
      "Fetching data for 2003-06-01 to 2003-08-31\n",
      "\n",
      "length of image_list: 4\n",
      "Fetching data for 2019-06-01 to 2019-08-31\n",
      "Fetching data for 2020-06-01 to 2020-08-31\n",
      "Fetching data for 2021-06-01 to 2021-08-31\n",
      "Fetching data for 2022-06-01 to 2022-08-31\n",
      "\n",
      "length of image_list: 4\n"
     ]
    }
   ],
   "source": [
    "# Define date ranges for summers of 2000-2003 and 2019-2022\n",
    "dates_2000_2003 = [('2000-06-01', '2000-08-31'), ('2001-06-01', '2001-08-31'), \n",
    "                   ('2002-06-01', '2002-08-31'), ('2003-06-01', '2003-08-31')]\n",
    "\n",
    "dates_2019_2022 = [('2019-06-01', '2019-08-31'), ('2020-06-01', '2020-08-31'), \n",
    "                   ('2021-06-01', '2021-08-31'), ('2022-06-01', '2022-08-31')]\n",
    "\n",
    "# Fetch and average MODIS NDVI data for each period\n",
    "def fetch_avg_NDVI(dates):\n",
    "    image_list = []\n",
    "    for start, end in dates:\n",
    "        print(f'Fetching data for {start} to {end}')\n",
    "\n",
    "        # Fetch the MODIS NDVI dataset for a given date range\n",
    "        MODIS_NDVI = ee.ImageCollection('MODIS/061/MOD13A2').filterDate(ee.Date(start), ee.Date(end)).select('NDVI')\n",
    "\n",
    "        # Calculate the mean NDVI for the date range\n",
    "        mean_NDVI = MODIS_NDVI.mean()\n",
    "       \n",
    "        # Add the image to the list\n",
    "        image_list.append(mean_NDVI)\n",
    "\n",
    "    # Combine the list into an image collection\n",
    "    print(f'\\nlength of image_list: {len(image_list)}')\n",
    "    combined_collection = ee.ImageCollection(image_list)\n",
    "\n",
    "    return combined_collection.mean()\n",
    "\n",
    "avg_NDVI_2000_2003 = fetch_avg_NDVI(dates_2000_2003)\n",
    "avg_NDVI_2019_2022 = fetch_avg_NDVI(dates_2019_2022)\n",
    "\n"
   ]
  },
  {
   "cell_type": "markdown",
   "metadata": {},
   "source": [
    "# ... Visualization and further analysis ...\n"
   ]
  },
  {
   "cell_type": "code",
   "execution_count": 8,
   "metadata": {},
   "outputs": [
    {
     "data": {
      "application/vnd.jupyter.widget-view+json": {
       "model_id": "4ce0fcfbb94140099a7fcb7d24ce4b80",
       "version_major": 2,
       "version_minor": 0
      },
      "text/plain": [
       "Map(center=[4.075891298132545e-31, 0], controls=(WidgetControl(options=['position', 'transparent_bg'], widget=…"
      ]
     },
     "execution_count": 8,
     "metadata": {},
     "output_type": "execute_result"
    }
   ],
   "source": [
    "# ... Visualization and further analysis ...\n",
    "\n",
    "# Compute the difference between the two periods\n",
    "NDVI_difference = avg_NDVI_2019_2022.subtract(avg_NDVI_2000_2003)\n",
    "\n",
    "# Define visualization parameters\n",
    "vis_params = {\n",
    "    'min': -3000,\n",
    "    'max': 3000,\n",
    "    'palette': ['darkred', 'red', 'lightcoral', 'white', 'lightgreen', 'green', 'darkgreen']\n",
    "\n",
    "\n",
    "}\n",
    "\n",
    "\n",
    "# Create a map and add the NDVI layer\n",
    "Map = geemap.Map()\n",
    "Map.centerObject(AOI, 2)  # Center the map to our area of interest and set zoom level\n",
    "Map.addLayer(NDVI_difference, vis_params, 'NDVI diff')\n",
    "Map.addLayerControl()  # This will add a layer control to toggle layers\n",
    "Map.add_colorbar(vis_params, label=\"NDVI\")\n",
    "\n",
    "Map"
   ]
  },
  {
   "cell_type": "markdown",
   "metadata": {},
   "source": []
  },
  {
   "cell_type": "code",
   "execution_count": 9,
   "metadata": {},
   "outputs": [
    {
     "name": "stdout",
     "output_type": "stream",
     "text": [
      "{'type': 'Image', 'bands': [{'id': 'NDVI', 'data_type': {'type': 'PixelType', 'precision': 'double', 'min': -65535, 'max': 65535}, 'crs': 'EPSG:4326', 'crs_transform': [1, 0, 0, 0, 1, 0]}]}\n",
      "NDVI\n",
      "\n",
      "Random datapoint, NDVI value and coordinates: {'NDVI': None}\n",
      "\n",
      "Type: <class 'ee.image.Image'>\n"
     ]
    }
   ],
   "source": [
    "# info\n",
    "print(NDVI_difference.getInfo())\n",
    "print(NDVI_difference.getInfo()['bands'][0]['id'])\n",
    "print('')\n",
    "print(f'Random datapoint, NDVI value and coordinates: {NDVI_difference.reduceRegion(ee.Reducer.first(), AOI, 1000).getInfo()}')\n",
    "print(f'\\nType: {type(NDVI_difference)}')"
   ]
  },
  {
   "cell_type": "markdown",
   "metadata": {},
   "source": [
    "# Sampling"
   ]
  },
  {
   "cell_type": "code",
   "execution_count": 10,
   "metadata": {},
   "outputs": [
    {
     "name": "stdout",
     "output_type": "stream",
     "text": [
      "Number of sample points: 728\n",
      "Sample list length: 728\n",
      "Sample list type: <class 'ee.ee_list.List'>\n",
      "Sample list element type: <class 'ee.computedobject.ComputedObject'>\n",
      "\n",
      "first element: {'type': 'Feature', 'geometry': {'type': 'Point', 'coordinates': [24.238181305345364, -2.1739759884056986]}, 'id': '6', 'properties': {'NDVI': 439.125}}\n",
      "length of coordinates: 728\n"
     ]
    },
    {
     "data": {
      "application/vnd.jupyter.widget-view+json": {
       "model_id": "fd0118d5f0194df2be1d436be757be2f",
       "version_major": 2,
       "version_minor": 0
      },
      "text/plain": [
       "Map(center=[4.075891298132545e-31, 0], controls=(WidgetControl(options=['position', 'transparent_bg'], widget=…"
      ]
     },
     "execution_count": 10,
     "metadata": {},
     "output_type": "execute_result"
    }
   ],
   "source": [
    "# Define a global rectangle that avoids the dateline between Russia and Alaska\n",
    "global_aoi = ee.Geometry.Rectangle([-180, -90, 180, 90\n",
    "], proj='EPSG:4326', geodesic=False)\n",
    "\n",
    "# Sample the NDVI_difference image using the adjusted global AOI\n",
    "sample = NDVI_difference.sample(region=global_aoi, seed=12, geometries=True, scale=10000, factor=0.00032)\n",
    "\n",
    "\n",
    "# Check the number of sample points\n",
    "num_samples = sample.size().getInfo()\n",
    "print(f\"Number of sample points: {num_samples}\")\n",
    "\n",
    "# Convert FeatureCollection to List\n",
    "sample_list = sample.toList(sample.size())\n",
    "print(f\"Sample list length: {sample_list.size().getInfo()}\")\n",
    "print(f\"Sample list type: {type(sample_list)}\")\n",
    "print(f\"Sample list element type: {type(sample_list.get(0))}\")\n",
    "print(f'\\nfirst element: {sample_list.get(0).getInfo()}')\n",
    "\n",
    "# Convert FeatureCollection to List\n",
    "# sample_list = sample.toList(sample.size())\n",
    "\n",
    "# Extract coordinates\n",
    "sample_features = sample.getInfo()['features']\n",
    "coordinates = [feature['geometry']['coordinates'] for feature in sample_features]\n",
    "\n",
    "\n",
    "print(f'length of coordinates: {len(coordinates)}')\n",
    "\n",
    "\n",
    "# Warning: this next part will take a while to run!\n",
    "Map = geemap.Map()\n",
    "Map.centerObject(AOI, 2)  # Center on Luxembourg and zoom in\n",
    "\n",
    "# Add each coordinate as a marker\n",
    "for coord in coordinates:\n",
    "    Map.add_marker(location=(coord[1], coord[0]), color=\"red\")\n",
    "\n",
    "Map\n"
   ]
  },
  {
   "cell_type": "code",
   "execution_count": 11,
   "metadata": {},
   "outputs": [
    {
     "name": "stdout",
     "output_type": "stream",
     "text": [
      "Sample image type: <class 'ee.image.Image'>\n",
      "\n",
      "sample: {'type': 'Image', 'bands': [{'id': 'constant', 'data_type': {'type': 'PixelType', 'precision': 'double'}, 'crs': 'EPSG:4326', 'crs_transform': [1, 0, 0, 0, 1, 0]}]}\n",
      "\n",
      "ndvi_diff: {'type': 'Image', 'bands': [{'id': 'NDVI', 'data_type': {'type': 'PixelType', 'precision': 'double', 'min': -65535, 'max': 65535}, 'crs': 'EPSG:4326', 'crs_transform': [1, 0, 0, 0, 1, 0]}]}\n"
     ]
    },
    {
     "data": {
      "application/vnd.jupyter.widget-view+json": {
       "model_id": "b442519e8b17493fb27b861fb72088da",
       "version_major": 2,
       "version_minor": 0
      },
      "text/plain": [
       "Map(center=[4.075891298132545e-31, 0], controls=(WidgetControl(options=['position', 'transparent_bg'], widget=…"
      ]
     },
     "execution_count": 11,
     "metadata": {},
     "output_type": "execute_result"
    }
   ],
   "source": [
    "\n",
    "\n",
    "# Buffer each point to create a 1x1 km circle around each point\n",
    "bufferedFeatures = sample.map(lambda feature: feature.buffer(5000))\n",
    "\n",
    "# Convert buffered feature collection back to image with NDVI values\n",
    "sample_image = ee.Image().float().paint(bufferedFeatures, 'NDVI', 5)\n",
    "\n",
    "print(f\"Sample image type: {type(sample_image)}\")\n",
    "print(f'\\nsample: {sample_image.getInfo()}')\n",
    "print(f'\\nndvi_diff: {NDVI_difference.getInfo()}')\n",
    "\n",
    "\n",
    "ndvi_vis_params = {\n",
    "    'min': -500,\n",
    "    'max': 500,\n",
    "    'palette': ['brown', 'yellow', 'green']\n",
    "}\n",
    "\n",
    "Map = geemap.Map()\n",
    "Map.centerObject(AOI, 2)  # Center on Luxembourg and zoom in\n",
    "\n",
    "# Add the sample_image with the NDVI color palette\n",
    "Map.addLayer(sample_image, ndvi_vis_params, \"Sampled NDVI Values\")\n",
    "\n",
    "Map.add_colorbar(ndvi_vis_params, label=\"NDVI\")\n",
    "Map\n"
   ]
  },
  {
   "cell_type": "code",
   "execution_count": 12,
   "metadata": {},
   "outputs": [
    {
     "name": "stdout",
     "output_type": "stream",
     "text": [
      "data length: 728\n"
     ]
    }
   ],
   "source": [
    "# Convert the sample to a list for plotting\n",
    "import numpy as np\n",
    "data_list = sample.aggregate_array('NDVI').getInfo()\n",
    "\n",
    "#  Convert the list to a numpy array\n",
    "data = np.array(data_list)\n",
    "print(f'data length: {len(data)}')"
   ]
  },
  {
   "cell_type": "code",
   "execution_count": 13,
   "metadata": {},
   "outputs": [
    {
     "data": {
      "image/png": "[encoded data removed]",
      "text/plain": [
       "<Figure size 640x480 with 1 Axes>"
      ]
     },
     "metadata": {},
     "output_type": "display_data"
    }
   ],
   "source": [
    "# Plot the histogram\n",
    "import matplotlib.pyplot as plt\n",
    "plt.hist(data, bins=10, color='blue', edgecolor='black')\n",
    "plt.title('Histogram of NDVI Difference')\n",
    "plt.xlabel('NDVI Difference')\n",
    "plt.ylabel('Number of Pixels')\n",
    "plt.show()"
   ]
  },
  {
   "cell_type": "markdown",
   "metadata": {},
   "source": [
    "# Clustering\n",
    "#### Code unclear, copy and paste from chatgpt (i dont understand what is happening) //Marius"
   ]
  },
  {
   "cell_type": "code",
   "execution_count": 14,
   "metadata": {},
   "outputs": [
    {
     "data": {
      "application/vnd.jupyter.widget-view+json": {
       "model_id": "b442519e8b17493fb27b861fb72088da",
       "version_major": 2,
       "version_minor": 0
      },
      "text/plain": [
       "Map(bottom=824.0, center=[-4.214943141390639, -2.9882812500000004], controls=(WidgetControl(options=['position…"
      ]
     },
     "execution_count": 14,
     "metadata": {},
     "output_type": "execute_result"
    }
   ],
   "source": [
    "# Define the region of interest as Africa\n",
    "region = ee.Geometry.Rectangle([-20, -35, 55, 37])\n",
    "\n",
    "\n",
    "\n",
    "# Define the number of clusters\n",
    "n_clusters = 5\n",
    "\n",
    "# Train the clusterer using the sampled points\n",
    "clusterer = ee.Clusterer.wekaKMeans(n_clusters).train(sample)\n",
    "result = NDVI_difference.cluster(clusterer)\n",
    "\n",
    "# Define a color palette\n",
    "palette = ['red', 'orange', 'yellow', 'lime', 'green']\n",
    "\n",
    "# Add the classified image to the map\n",
    "Map.addLayer(result, {'min': 0, 'max': n_clusters - 1, 'palette': palette}, 'Clusters')\n",
    "\n",
    "Map\n"
   ]
  },
  {
   "attachments": {},
   "cell_type": "markdown",
   "metadata": {},
   "source": [
    "# Filtering\n",
    "#### Let's create a filter for the quality of the Picture.\n"
   ]
  },
  {
   "cell_type": "code",
   "execution_count": 16,
   "metadata": {},
   "outputs": [],
   "source": [
    "#Available qualities\n",
    "available_Qualities = [0,1,2,3]\n",
    "bad_quality = 2\n",
    "\n",
    "#choose what quality is too bad to keep\n",
    "available_Usefulness = [0,1,2,4,8,9,10,12,13,14,15]\n",
    "\n",
    "#choose what quality is too bad to keep\n",
    "bad_usefulness = 13\n",
    "\n",
    "\n",
    "#filter to keep only pixels with a certain image quality or better\n",
    "def mask_bad_data(image):\n",
    "    getIndex = available_Usefulness.index(bad_usefulness)\n",
    "    maskSize = ee.Number(1).add(5).subtract(2)\n",
    "    maskCur = ee.Number(1).leftShift(maskSize).subtract(1)\n",
    "    mask = image.select('DetailedQA').rightShift(2).bitwiseAnd(maskCur).eq(available_Usefulness[0])\n",
    "    for i in range(1,getIndex):\n",
    "        # Use the QA band to mask \"bad\" data points\n",
    "        mask2 = image.select('DetailedQA').rightShift(2).bitwiseAnd(maskCur).eq(available_Usefulness[i])\n",
    "        mask = mask.Or(mask2)\n",
    "\n",
    "    maskSize = ee.Number(1).add(1).subtract(0)\n",
    "    maskCur = ee.Number(1).leftShift(maskSize).subtract(1)\n",
    "    mask3 = image.select('DetailedQA').rightShift(0).bitwiseAnd(maskCur).eq(available_Qualities[0])\n",
    "    for i in range(1,bad_quality):\n",
    "        # Use the QA band to mask \"bad\" data points\n",
    "        mask2 = image.select('DetailedQA').rightShift(2).bitwiseAnd(maskCur).eq(available_Qualities[i])\n",
    "        mask3 = mask3.Or(mask2)\n",
    "\n",
    "    mask = mask.And(mask3)\n",
    "    \n",
    "    return image.updateMask(mask)\n",
    "\n",
    "#show all the pixels that were deleted due to bad quality in previous filter\n",
    "def show_bad_data(image):\n",
    "    getIndex = available_Usefulness.index(bad_usefulness)\n",
    "    maskSize = ee.Number(1).add(5).subtract(2)\n",
    "    maskCur = ee.Number(1).leftShift(maskSize).subtract(1)\n",
    "    mask = image.select('DetailedQA').rightShift(2).bitwiseAnd(maskCur).eq(available_Usefulness[getIndex])\n",
    "    if getIndex + 1 < len(available_Usefulness):\n",
    "        for i in range(getIndex+1,len(available_Usefulness)):\n",
    "            # Use the QA band to mask \"bad\" data points\n",
    "            mask2 = image.select('DetailedQA').rightShift(2).bitwiseAnd(maskCur).eq(available_Usefulness[i])\n",
    "            mask = mask.Or(mask2)\n",
    "\n",
    "    maskSize = ee.Number(1).add(1).subtract(0)\n",
    "    maskCur = ee.Number(1).leftShift(maskSize).subtract(1)\n",
    "    mask3 = image.select('DetailedQA').rightShift(0).bitwiseAnd(maskCur).eq(available_Qualities[bad_quality])\n",
    "    if bad_quality + 1 < len(available_Qualities):\n",
    "        for i in range(bad_quality+1,len(available_Qualities)):\n",
    "            # Use the QA band to mask \"bad\" data points\n",
    "            mask2 = image.select('DetailedQA').rightShift(2).bitwiseAnd(maskCur).eq(available_Qualities[i])\n",
    "            mask3 = mask3.Or(mask2)\n",
    "        \n",
    "    mask4 = mask.Not().And(mask3)\n",
    "    mask5 = mask.And(mask3.Not())\n",
    "    mask = mask.And(mask3)\n",
    "    mask = mask.Or(mask4).Or(mask5)\n",
    "    \n",
    "    return image.updateMask(mask)"
   ]
  },
  {
   "attachments": {},
   "cell_type": "markdown",
   "metadata": {},
   "source": [
    "#### First we show all the pixels that were removed due to the bad quality"
   ]
  },
  {
   "cell_type": "code",
   "execution_count": 17,
   "metadata": {},
   "outputs": [
    {
     "data": {
      "application/vnd.jupyter.widget-view+json": {
       "model_id": "26c0f70421944cddace27a1c9e94b19b",
       "version_major": 2,
       "version_minor": 0
      },
      "text/plain": [
       "Map(center=[4.075891298132545e-31, 0], controls=(WidgetControl(options=['position', 'transparent_bg'], widget=…"
      ]
     },
     "execution_count": 17,
     "metadata": {},
     "output_type": "execute_result"
    }
   ],
   "source": [
    "#test filter on one image\n",
    "#first let's show the removed pixels\n",
    "testImage = ee.ImageCollection('MODIS/061/MOD13A2').filterDate(ee.Date('2019-06-01'), ee.Date('2019-06-12')).select(['NDVI','DetailedQA'])\n",
    "removedPixel = testImage.map(show_bad_data)\n",
    "\n",
    "vis_params = {\n",
    "    'min': -3000,\n",
    "    'max': 3000,\n",
    "    'palette': [\n",
    "         'ce7e45', 'df923d', 'f1b555', 'fcd163', '99b718', '74a901',\n",
    "        '66a000', '529400', '3e8601', '207401', '056201', '004c00', '023b01',\n",
    "        '012e01', '011d01', '011301'\n",
    "    ],\n",
    "}\n",
    "\n",
    "# Create a map and add the NDVI layer\n",
    "Map = geemap.Map()\n",
    "Map.centerObject(AOI, 2)  # Center the map to our area of interest and set zoom level\n",
    "Map.addLayer(removedPixel.select('NDVI'), vis_params, 'Mean Filtered')\n",
    "Map.addLayerControl()  # This will add a layer control to toggle layers\n",
    "Map.add_colorbar(vis_params, label=\"NDVI\")\n",
    "Map"
   ]
  },
  {
   "attachments": {},
   "cell_type": "markdown",
   "metadata": {},
   "source": [
    "#### Now we show all the pixels that were kept. (As you can see it has the white areas were we removed the pixels)"
   ]
  },
  {
   "cell_type": "code",
   "execution_count": 18,
   "metadata": {},
   "outputs": [
    {
     "data": {
      "application/vnd.jupyter.widget-view+json": {
       "model_id": "125b0e215ff546d6b68349597a5e9d56",
       "version_major": 2,
       "version_minor": 0
      },
      "text/plain": [
       "Map(center=[4.075891298132545e-31, 0], controls=(WidgetControl(options=['position', 'transparent_bg'], widget=…"
      ]
     },
     "execution_count": 18,
     "metadata": {},
     "output_type": "execute_result"
    }
   ],
   "source": [
    "#now let's see the filtered image\n",
    "filtered_ndvi = testImage.map(mask_bad_data)\n",
    "\n",
    "vis_params = {\n",
    "    'min': -3000,\n",
    "    'max': 3000,\n",
    "    'palette': [\n",
    "        'ce7e45', 'df923d', 'f1b555', 'fcd163', '99b718', '74a901',\n",
    "        '66a000', '529400', '3e8601', '207401', '056201', '004c00', '023b01',\n",
    "        '012e01', '011d01', '011301'\n",
    "    ],\n",
    "}\n",
    "\n",
    "# Create a map and add the NDVI layer\n",
    "Map = geemap.Map()\n",
    "Map.centerObject(AOI, 2)  # Center the map to our area of interest and set zoom level\n",
    "Map.addLayer(filtered_ndvi.select('NDVI'), vis_params, 'Mean Filtered')\n",
    "Map.addLayerControl()  # This will add a layer control to toggle layers\n",
    "Map.add_colorbar(vis_params, label=\"NDVI\")\n",
    "Map"
   ]
  },
  {
   "attachments": {},
   "cell_type": "markdown",
   "metadata": {},
   "source": [
    "#### Now lets do our 20 year test without the bad pixel"
   ]
  },
  {
   "cell_type": "code",
   "execution_count": 19,
   "metadata": {},
   "outputs": [
    {
     "name": "stdout",
     "output_type": "stream",
     "text": [
      "Fetching data for 2000-06-01 to 2000-08-31\n",
      "Fetching data for 2001-06-01 to 2001-08-31\n",
      "Fetching data for 2002-06-01 to 2002-08-31\n",
      "Fetching data for 2003-06-01 to 2003-08-31\n",
      "\n",
      "length of image_list: 4\n",
      "Fetching data for 2019-06-01 to 2019-08-31\n",
      "Fetching data for 2020-06-01 to 2020-08-31\n",
      "Fetching data for 2021-06-01 to 2021-08-31\n",
      "Fetching data for 2022-06-01 to 2022-08-31\n",
      "\n",
      "length of image_list: 4\n"
     ]
    },
    {
     "data": {
      "application/vnd.jupyter.widget-view+json": {
       "model_id": "1a4f8800cc6144ef8315c73fb24362ef",
       "version_major": 2,
       "version_minor": 0
      },
      "text/plain": [
       "Map(center=[4.075891298132545e-31, 0], controls=(WidgetControl(options=['position', 'transparent_bg'], widget=…"
      ]
     },
     "execution_count": 19,
     "metadata": {},
     "output_type": "execute_result"
    }
   ],
   "source": [
    "\n",
    "dates_2000_2003 = [('2000-06-01', '2000-08-31'), ('2001-06-01', '2001-08-31'), \n",
    "                   ('2002-06-01', '2002-08-31'), ('2003-06-01', '2003-08-31')]\n",
    "\n",
    "dates_2019_2022 = [('2019-06-01', '2019-08-31'), ('2020-06-01', '2020-08-31'), \n",
    "                   ('2021-06-01', '2021-08-31'), ('2022-06-01', '2022-08-31')]\n",
    "\n",
    "\n",
    "def fetch_avg_NDVI_Filtered(dates):\n",
    "    filtered_list = []\n",
    "    for start, end in dates:\n",
    "        print(f'Fetching data for {start} to {end}')\n",
    "\n",
    "        # Fetch the MODIS NDVI dataset for a given date range\n",
    "        MODIS_NDVI = ee.ImageCollection('MODIS/061/MOD13A2').filterDate(ee.Date(start), ee.Date(end)).select(['NDVI','DetailedQA'])\n",
    "\n",
    "        filtered_ndvi = MODIS_NDVI.map(mask_bad_data)\n",
    "        \n",
    "        # Calculate the mean NDVI for the date range\n",
    "        mean_Filter = filtered_ndvi.mean()\n",
    "       \n",
    "        # Add the image to the list\n",
    "        filtered_list.append(mean_Filter)\n",
    "\n",
    "    # Combine the list into an image collection\n",
    "    print(f'\\nlength of image_list: {len(filtered_list)}')\n",
    "    combined_filtered = ee.ImageCollection(filtered_list)\n",
    "\n",
    "    return combined_filtered.mean()\n",
    "\n",
    "avg_Filter_2000_2003 = fetch_avg_NDVI_Filtered(dates_2000_2003)\n",
    "avg_Filter_2019_2022 = fetch_avg_NDVI_Filtered(dates_2019_2022)\n",
    "\n",
    "Filter_difference = avg_Filter_2019_2022.subtract(avg_Filter_2000_2003)\n",
    "\n",
    "\n",
    "# Define visualization parameters\n",
    "vis_params = {\n",
    "    'min': -3000,\n",
    "    'max': 3000,\n",
    "    'palette': [\n",
    "        'ffffff', 'ce7e45', 'df923d', 'f1b555', 'fcd163', '99b718', '74a901',\n",
    "        '66a000', '529400', '3e8601', '207401', '056201', '004c00', '023b01',\n",
    "        '012e01', '011d01', '011301'\n",
    "    ],\n",
    "}\n",
    "\n",
    "\n",
    "# Create a map and add the NDVI layer\n",
    "Map = geemap.Map()\n",
    "Map.centerObject(AOI, 2)  # Center the map to our area of interest and set zoom level\n",
    "Map.addLayer(Filter_difference.select('NDVI'), vis_params, 'Mean Filtered')\n",
    "Map.addLayerControl()  # This will add a layer control to toggle layers\n",
    "Map.add_colorbar(vis_params, label=\"NDVI\")\n",
    "Map"
   ]
  }
 ],
 "metadata": {
  "kernelspec": {
   "display_name": "Python 3",
   "language": "python",
   "name": "python3"
  },
  "language_info": {
   "codemirror_mode": {
    "name": "ipython",
    "version": 3
   },
   "file_extension": ".py",
   "mimetype": "text/x-python",
   "name": "python",
   "nbconvert_exporter": "python",
   "pygments_lexer": "ipython3",
   "version": "3.10.6"
  },
  "orig_nbformat": 4
 },
 "nbformat": 4,
 "nbformat_minor": 2
}
