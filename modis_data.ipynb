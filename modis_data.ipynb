{
 "cells": [
  {
   "cell_type": "markdown",
   "metadata": {},
   "source": [
    "# NASA MODIS green data"
   ]
  },
  {
   "cell_type": "code",
   "execution_count": 81,
   "metadata": {},
   "outputs": [],
   "source": [
    "# Initialize Earth Engine\n",
    "import ee\n",
    "ee.Initialize()"
   ]
  },
  {
   "cell_type": "code",
   "execution_count": 82,
   "metadata": {},
   "outputs": [
    {
     "data": {
      "application/vnd.jupyter.widget-view+json": {
       "model_id": "74186279e2374b369efc096ad35a9edb",
       "version_major": 2,
       "version_minor": 0
      },
      "text/plain": [
       "Map(center=[4.075891298132545e-31, 0], controls=(WidgetControl(options=['position', 'transparent_bg'], widget=…"
      ]
     },
     "execution_count": 82,
     "metadata": {},
     "output_type": "execute_result"
    }
   ],
   "source": [
    "import geemap\n",
    "\n",
    "# Define an area of interest (optional). Here, we'll use the entire world.\n",
    "AOI = ee.Geometry.Rectangle([-180, -90, 180, 90])\n",
    "\n",
    "# Fetch the MODIS NDVI dataset for a given date range\n",
    "start_date = '2000-06-01'\n",
    "end_date = '2000-07-01'\n",
    "MODIS_NDVI = ee.ImageCollection('MODIS/061/MOD13A2').filterDate(ee.Date(start_date), ee.Date(end_date)).select('NDVI')\n",
    "\n",
    "# Calculate the mean NDVI for the date range\n",
    "mean_NDVI = MODIS_NDVI.mean()\n",
    "\n",
    "# Define visualization parameters\n",
    "vis_params = {\n",
    "    'min': 0,\n",
    "    'max': 9000,\n",
    "    'palette': ['red', 'yellow', 'green', 'darkgreen', 'blue'],\n",
    "    'breakpoints': [0, 3000, 6000, 8500, 9000]\n",
    "}\n",
    "\n",
    "# Create a map and add the NDVI layer\n",
    "Map = geemap.Map()\n",
    "Map.centerObject(AOI, 2)  # Center the map to our area of interest and set zoom level\n",
    "Map.addLayer(mean_NDVI, vis_params, 'Mean NDVI')\n",
    "Map.addLayerControl()  # This will add a layer control to toggle layers\n",
    "Map.add_colorbar(vis_params, label=\"NDVI\")\n",
    "Map\n",
    "\n"
   ]
  },
  {
   "cell_type": "code",
   "execution_count": 83,
   "metadata": {},
   "outputs": [
    {
     "data": {
      "application/vnd.jupyter.widget-view+json": {
       "model_id": "c500fe5569684b0d98d83a81eaef0150",
       "version_major": 2,
       "version_minor": 0
      },
      "text/plain": [
       "Map(center=[4.075891298132545e-31, 0], controls=(WidgetControl(options=['position', 'transparent_bg'], widget=…"
      ]
     },
     "execution_count": 83,
     "metadata": {},
     "output_type": "execute_result"
    }
   ],
   "source": [
    "import geemap\n",
    "\n",
    "# Define an area of interest (optional). Here, we'll use the entire world.\n",
    "AOI = ee.Geometry.Rectangle([-180, -90, 180, 90])\n",
    "\n",
    "# Fetch the MODIS NDVI dataset for a given date range\n",
    "start_date = '2022-06-01'\n",
    "end_date = '2022-07-01'\n",
    "MODIS_NDVI = ee.ImageCollection('MODIS/061/MOD13A2').filterDate(ee.Date(start_date), ee.Date(end_date)).select('NDVI')\n",
    "\n",
    "# Calculate the mean NDVI for the date range\n",
    "mean_NDVI = MODIS_NDVI.mean()\n",
    "\n",
    "# Define visualization parameters\n",
    "vis_params = {\n",
    "    'min': 0,\n",
    "    'max': 9000,\n",
    "    'palette': ['red', 'yellow', 'green', 'darkgreen', 'blue'],\n",
    "    'breakpoints': [0, 3000, 6000, 8500, 9000]\n",
    "}\n",
    "\n",
    "# Create a map and add the NDVI layer\n",
    "Map = geemap.Map()\n",
    "Map.centerObject(AOI, 2)  # Center the map to our area of interest and set zoom level\n",
    "Map.addLayer(mean_NDVI, vis_params, 'Mean NDVI')\n",
    "Map.addLayerControl()  # This will add a layer control to toggle layers\n",
    "Map.add_colorbar(vis_params, label=\"NDVI\")\n",
    "Map\n"
   ]
  },
  {
   "cell_type": "markdown",
   "metadata": {},
   "source": [
    "# Look at difference between 2000 and 2022\n"
   ]
  },
  {
   "cell_type": "code",
   "execution_count": 84,
   "metadata": {},
   "outputs": [
    {
     "name": "stdout",
     "output_type": "stream",
     "text": [
      "Fetching data for 2000-06-01 to 2000-08-31\n",
      "Fetching data for 2001-06-01 to 2001-08-31\n",
      "Fetching data for 2002-06-01 to 2002-08-31\n",
      "Fetching data for 2003-06-01 to 2003-08-31\n",
      "\n",
      "length of image_list: 4\n",
      "Fetching data for 2019-06-01 to 2019-08-31\n",
      "Fetching data for 2020-06-01 to 2020-08-31\n",
      "Fetching data for 2021-06-01 to 2021-08-31\n",
      "Fetching data for 2022-06-01 to 2022-08-31\n",
      "\n",
      "length of image_list: 4\n"
     ]
    }
   ],
   "source": [
    "# Define date ranges for summers of 2000-2003 and 2019-2022\n",
    "dates_2000_2003 = [('2000-06-01', '2000-08-31'), ('2001-06-01', '2001-08-31'), \n",
    "                   ('2002-06-01', '2002-08-31'), ('2003-06-01', '2003-08-31')]\n",
    "\n",
    "dates_2019_2022 = [('2019-06-01', '2019-08-31'), ('2020-06-01', '2020-08-31'), \n",
    "                   ('2021-06-01', '2021-08-31'), ('2022-06-01', '2022-08-31')]\n",
    "\n",
    "# Fetch and average MODIS NDVI data for each period\n",
    "def fetch_avg_NDVI(dates):\n",
    "    image_list = []\n",
    "    for start, end in dates:\n",
    "        print(f'Fetching data for {start} to {end}')\n",
    "\n",
    "        # Fetch the MODIS NDVI dataset for a given date range\n",
    "        MODIS_NDVI = ee.ImageCollection('MODIS/061/MOD13A2').filterDate(ee.Date(start), ee.Date(end)).select('NDVI')\n",
    "\n",
    "        # Calculate the mean NDVI for the date range\n",
    "        mean_NDVI = MODIS_NDVI.mean()\n",
    "       \n",
    "        # Add the image to the list\n",
    "        image_list.append(mean_NDVI)\n",
    "\n",
    "    # Combine the list into an image collection\n",
    "    print(f'\\nlength of image_list: {len(image_list)}')\n",
    "    combined_collection = ee.ImageCollection(image_list)\n",
    "\n",
    "    return combined_collection.mean()\n",
    "\n",
    "avg_NDVI_2000_2003 = fetch_avg_NDVI(dates_2000_2003)\n",
    "avg_NDVI_2019_2022 = fetch_avg_NDVI(dates_2019_2022)\n",
    "\n"
   ]
  },
  {
   "cell_type": "markdown",
   "metadata": {},
   "source": [
    "# ... Visualization and further analysis ...\n"
   ]
  },
  {
   "cell_type": "code",
   "execution_count": 85,
   "metadata": {},
   "outputs": [
    {
     "data": {
      "application/vnd.jupyter.widget-view+json": {
       "model_id": "d5a14855f2474a7894620ea85ee19fa2",
       "version_major": 2,
       "version_minor": 0
      },
      "text/plain": [
       "Map(center=[4.075891298132545e-31, 0], controls=(WidgetControl(options=['position', 'transparent_bg'], widget=…"
      ]
     },
     "execution_count": 85,
     "metadata": {},
     "output_type": "execute_result"
    }
   ],
   "source": [
    "# ... Visualization and further analysis ...\n",
    "\n",
    "# Compute the difference between the two periods\n",
    "NDVI_difference = avg_NDVI_2019_2022.subtract(avg_NDVI_2000_2003)\n",
    "\n",
    "# Define visualization parameters\n",
    "vis_params = {\n",
    "    'min': -9000,\n",
    "    'max': 9000,\n",
    "    'palette': ['darkred', 'red', 'lightcoral', 'white', 'lightgreen', 'green', 'darkgreen']\n",
    "\n",
    "\n",
    "}\n",
    "\n",
    "\n",
    "# Create a map and add the NDVI layer\n",
    "Map = geemap.Map()\n",
    "Map.centerObject(AOI, 2)  # Center the map to our area of interest and set zoom level\n",
    "Map.addLayer(mean_NDVI, vis_params, 'Mean NDVI')\n",
    "Map.addLayerControl()  # This will add a layer control to toggle layers\n",
    "Map.add_colorbar(vis_params, label=\"NDVI\")\n",
    "\n",
    "Map"
   ]
  },
  {
   "cell_type": "code",
   "execution_count": 86,
   "metadata": {},
   "outputs": [
    {
     "name": "stdout",
     "output_type": "stream",
     "text": [
      "{'type': 'Image', 'bands': [{'id': 'NDVI', 'data_type': {'type': 'PixelType', 'precision': 'double', 'min': -65535, 'max': 65535}, 'crs': 'EPSG:4326', 'crs_transform': [1, 0, 0, 0, 1, 0]}]}\n"
     ]
    }
   ],
   "source": [
    "print(NDVI_difference.getInfo())"
   ]
  },
  {
   "cell_type": "markdown",
   "metadata": {},
   "source": [
    "# Sampling & Clustering"
   ]
  },
  {
   "cell_type": "code",
   "execution_count": 87,
   "metadata": {},
   "outputs": [
    {
     "ename": "EEException",
     "evalue": "Invalid GeoJSON geometry.",
     "output_type": "error",
     "traceback": [
      "\u001b[1;31m---------------------------------------------------------------------------\u001b[0m",
      "\u001b[1;31mEEException\u001b[0m                               Traceback (most recent call last)",
      "\u001b[1;32mc:\\Data Mining 1\\DM Project\\data-mining-project\\modis_data.ipynb Cell 11\u001b[0m line \u001b[0;36m1\n\u001b[0;32m      <a href='vscode-notebook-cell:/c%3A/Data%20Mining%201/DM%20Project/data-mining-project/modis_data.ipynb#X16sZmlsZQ%3D%3D?line=6'>7</a>\u001b[0m n_clusters \u001b[39m=\u001b[39m \u001b[39m5\u001b[39m\n\u001b[0;32m     <a href='vscode-notebook-cell:/c%3A/Data%20Mining%201/DM%20Project/data-mining-project/modis_data.ipynb#X16sZmlsZQ%3D%3D?line=9'>10</a>\u001b[0m \u001b[39m# Sample the image to generate a FeatureCollection of points\u001b[39;00m\n\u001b[1;32m---> <a href='vscode-notebook-cell:/c%3A/Data%20Mining%201/DM%20Project/data-mining-project/modis_data.ipynb#X16sZmlsZQ%3D%3D?line=10'>11</a>\u001b[0m sample \u001b[39m=\u001b[39m NDVI_difference\u001b[39m.\u001b[39;49msample({\n\u001b[0;32m     <a href='vscode-notebook-cell:/c%3A/Data%20Mining%201/DM%20Project/data-mining-project/modis_data.ipynb#X16sZmlsZQ%3D%3D?line=11'>12</a>\u001b[0m     \u001b[39m'\u001b[39;49m\u001b[39mregion\u001b[39;49m\u001b[39m'\u001b[39;49m: region,\n\u001b[0;32m     <a href='vscode-notebook-cell:/c%3A/Data%20Mining%201/DM%20Project/data-mining-project/modis_data.ipynb#X16sZmlsZQ%3D%3D?line=12'>13</a>\u001b[0m     \u001b[39m'\u001b[39;49m\u001b[39mscale\u001b[39;49m\u001b[39m'\u001b[39;49m: \u001b[39m1000\u001b[39;49m,\n\u001b[0;32m     <a href='vscode-notebook-cell:/c%3A/Data%20Mining%201/DM%20Project/data-mining-project/modis_data.ipynb#X16sZmlsZQ%3D%3D?line=13'>14</a>\u001b[0m     \u001b[39m'\u001b[39;49m\u001b[39mnumPixels\u001b[39;49m\u001b[39m'\u001b[39;49m: \u001b[39m10000\u001b[39;49m\n\u001b[0;32m     <a href='vscode-notebook-cell:/c%3A/Data%20Mining%201/DM%20Project/data-mining-project/modis_data.ipynb#X16sZmlsZQ%3D%3D?line=14'>15</a>\u001b[0m })\n\u001b[0;32m     <a href='vscode-notebook-cell:/c%3A/Data%20Mining%201/DM%20Project/data-mining-project/modis_data.ipynb#X16sZmlsZQ%3D%3D?line=16'>17</a>\u001b[0m \u001b[39m# Train the clusterer using the sampled points\u001b[39;00m\n\u001b[0;32m     <a href='vscode-notebook-cell:/c%3A/Data%20Mining%201/DM%20Project/data-mining-project/modis_data.ipynb#X16sZmlsZQ%3D%3D?line=17'>18</a>\u001b[0m clusterer \u001b[39m=\u001b[39m ee\u001b[39m.\u001b[39mClusterer\u001b[39m.\u001b[39mwekaKMeans(n_clusters)\u001b[39m.\u001b[39mtrain(sample)\n",
      "File \u001b[1;32m~\\AppData\\Local\\Packages\\PythonSoftwareFoundation.Python.3.8_qbz5n2kfra8p0\\LocalCache\\local-packages\\Python38\\site-packages\\ee\\apifunction.py:218\u001b[0m, in \u001b[0;36mApiFunction.importApi.<locals>.MakeBoundFunction.<locals>.<lambda>\u001b[1;34m(*args, **kwargs)\u001b[0m\n\u001b[0;32m    215\u001b[0m \u001b[39mdef\u001b[39;00m \u001b[39mMakeBoundFunction\u001b[39m(func):\n\u001b[0;32m    216\u001b[0m   \u001b[39m# We need the lambda to capture \"func\" from the enclosing scope.\u001b[39;00m\n\u001b[0;32m    217\u001b[0m   \u001b[39m# pylint: disable-next=unnecessary-lambda\u001b[39;00m\n\u001b[1;32m--> 218\u001b[0m   \u001b[39mreturn\u001b[39;00m \u001b[39mlambda\u001b[39;00m \u001b[39m*\u001b[39margs, \u001b[39m*\u001b[39m\u001b[39m*\u001b[39mkwargs: func\u001b[39m.\u001b[39;49mcall(\u001b[39m*\u001b[39;49margs, \u001b[39m*\u001b[39;49m\u001b[39m*\u001b[39;49mkwargs)\n",
      "File \u001b[1;32m~\\AppData\\Local\\Packages\\PythonSoftwareFoundation.Python.3.8_qbz5n2kfra8p0\\LocalCache\\local-packages\\Python38\\site-packages\\ee\\function.py:62\u001b[0m, in \u001b[0;36mFunction.call\u001b[1;34m(self, *args, **kwargs)\u001b[0m\n\u001b[0;32m     50\u001b[0m \u001b[39mdef\u001b[39;00m \u001b[39mcall\u001b[39m(\u001b[39mself\u001b[39m, \u001b[39m*\u001b[39margs, \u001b[39m*\u001b[39m\u001b[39m*\u001b[39mkwargs):\n\u001b[0;32m     51\u001b[0m \u001b[39m  \u001b[39m\u001b[39m\"\"\"Calls the function with the given positional and keyword arguments.\u001b[39;00m\n\u001b[0;32m     52\u001b[0m \n\u001b[0;32m     53\u001b[0m \u001b[39m  Args:\u001b[39;00m\n\u001b[1;32m   (...)\u001b[0m\n\u001b[0;32m     60\u001b[0m \u001b[39m    to that type.\u001b[39;00m\n\u001b[0;32m     61\u001b[0m \u001b[39m  \"\"\"\u001b[39;00m\n\u001b[1;32m---> 62\u001b[0m   \u001b[39mreturn\u001b[39;00m \u001b[39mself\u001b[39;49m\u001b[39m.\u001b[39;49mapply(\u001b[39mself\u001b[39;49m\u001b[39m.\u001b[39;49mnameArgs(args, kwargs))\n",
      "File \u001b[1;32m~\\AppData\\Local\\Packages\\PythonSoftwareFoundation.Python.3.8_qbz5n2kfra8p0\\LocalCache\\local-packages\\Python38\\site-packages\\ee\\function.py:75\u001b[0m, in \u001b[0;36mFunction.apply\u001b[1;34m(self, named_args)\u001b[0m\n\u001b[0;32m     64\u001b[0m \u001b[39mdef\u001b[39;00m \u001b[39mapply\u001b[39m(\u001b[39mself\u001b[39m, named_args):\n\u001b[0;32m     65\u001b[0m \u001b[39m  \u001b[39m\u001b[39m\"\"\"Calls the function with a dictionary of named arguments.\u001b[39;00m\n\u001b[0;32m     66\u001b[0m \n\u001b[0;32m     67\u001b[0m \u001b[39m  Args:\u001b[39;00m\n\u001b[1;32m   (...)\u001b[0m\n\u001b[0;32m     73\u001b[0m \u001b[39m    to that type.\u001b[39;00m\n\u001b[0;32m     74\u001b[0m \u001b[39m  \"\"\"\u001b[39;00m\n\u001b[1;32m---> 75\u001b[0m   result \u001b[39m=\u001b[39m computedobject\u001b[39m.\u001b[39mComputedObject(\u001b[39mself\u001b[39m, \u001b[39mself\u001b[39;49m\u001b[39m.\u001b[39;49mpromoteArgs(named_args))\n\u001b[0;32m     76\u001b[0m   \u001b[39mreturn\u001b[39;00m Function\u001b[39m.\u001b[39m_promoter(result, \u001b[39mself\u001b[39m\u001b[39m.\u001b[39mgetReturnType())\n",
      "File \u001b[1;32m~\\AppData\\Local\\Packages\\PythonSoftwareFoundation.Python.3.8_qbz5n2kfra8p0\\LocalCache\\local-packages\\Python38\\site-packages\\ee\\function.py:103\u001b[0m, in \u001b[0;36mFunction.promoteArgs\u001b[1;34m(self, args)\u001b[0m\n\u001b[0;32m    101\u001b[0m name \u001b[39m=\u001b[39m arg_spec[\u001b[39m'\u001b[39m\u001b[39mname\u001b[39m\u001b[39m'\u001b[39m]\n\u001b[0;32m    102\u001b[0m \u001b[39mif\u001b[39;00m name \u001b[39min\u001b[39;00m args:\n\u001b[1;32m--> 103\u001b[0m   promoted_args[name] \u001b[39m=\u001b[39m Function\u001b[39m.\u001b[39;49m_promoter(args[name], arg_spec[\u001b[39m'\u001b[39;49m\u001b[39mtype\u001b[39;49m\u001b[39m'\u001b[39;49m])\n\u001b[0;32m    104\u001b[0m \u001b[39melif\u001b[39;00m \u001b[39mnot\u001b[39;00m arg_spec\u001b[39m.\u001b[39mget(\u001b[39m'\u001b[39m\u001b[39moptional\u001b[39m\u001b[39m'\u001b[39m):\n\u001b[0;32m    105\u001b[0m   \u001b[39mraise\u001b[39;00m ee_exception\u001b[39m.\u001b[39mEEException(\n\u001b[0;32m    106\u001b[0m       \u001b[39m'\u001b[39m\u001b[39mRequired argument (\u001b[39m\u001b[39m%s\u001b[39;00m\u001b[39m) missing to function: \u001b[39m\u001b[39m%s\u001b[39;00m\u001b[39m'\u001b[39m\n\u001b[0;32m    107\u001b[0m       \u001b[39m%\u001b[39m (name, signature\u001b[39m.\u001b[39mget(\u001b[39m'\u001b[39m\u001b[39mname\u001b[39m\u001b[39m'\u001b[39m)))\n",
      "File \u001b[1;32m~\\AppData\\Local\\Packages\\PythonSoftwareFoundation.Python.3.8_qbz5n2kfra8p0\\LocalCache\\local-packages\\Python38\\site-packages\\ee\\__init__.py:246\u001b[0m, in \u001b[0;36m_Promote\u001b[1;34m(arg, a_class)\u001b[0m\n\u001b[0;32m    244\u001b[0m     \u001b[39mreturn\u001b[39;00m ApiFunction\u001b[39m.\u001b[39mcall_(\u001b[39m'\u001b[39m\u001b[39mCollection.geometry\u001b[39m\u001b[39m'\u001b[39m, arg)\n\u001b[0;32m    245\u001b[0m   \u001b[39melse\u001b[39;00m:\n\u001b[1;32m--> 246\u001b[0m     \u001b[39mreturn\u001b[39;00m Geometry(arg)\n\u001b[0;32m    247\u001b[0m \u001b[39melif\u001b[39;00m a_class \u001b[39min\u001b[39;00m (\u001b[39m'\u001b[39m\u001b[39mFeatureCollection\u001b[39m\u001b[39m'\u001b[39m, \u001b[39m'\u001b[39m\u001b[39mCollection\u001b[39m\u001b[39m'\u001b[39m):\n\u001b[0;32m    248\u001b[0m   \u001b[39m# For now Collection is synonymous with FeatureCollection.\u001b[39;00m\n\u001b[0;32m    249\u001b[0m   \u001b[39mif\u001b[39;00m \u001b[39misinstance\u001b[39m(arg, Collection):\n",
      "File \u001b[1;32m~\\AppData\\Local\\Packages\\PythonSoftwareFoundation.Python.3.8_qbz5n2kfra8p0\\LocalCache\\local-packages\\Python38\\site-packages\\ee\\computedobject.py:26\u001b[0m, in \u001b[0;36mComputedObjectMetaclass.__call__\u001b[1;34m(cls, *args, **kwargs)\u001b[0m\n\u001b[0;32m     24\u001b[0m   \u001b[39mreturn\u001b[39;00m args[\u001b[39m0\u001b[39m]\n\u001b[0;32m     25\u001b[0m \u001b[39melse\u001b[39;00m:\n\u001b[1;32m---> 26\u001b[0m   \u001b[39mreturn\u001b[39;00m \u001b[39mtype\u001b[39;49m\u001b[39m.\u001b[39;49m\u001b[39m__call__\u001b[39;49m(\u001b[39mcls\u001b[39;49m, \u001b[39m*\u001b[39;49margs, \u001b[39m*\u001b[39;49m\u001b[39m*\u001b[39;49mkwargs)\n",
      "File \u001b[1;32m~\\AppData\\Local\\Packages\\PythonSoftwareFoundation.Python.3.8_qbz5n2kfra8p0\\LocalCache\\local-packages\\Python38\\site-packages\\ee\\geometry.py:83\u001b[0m, in \u001b[0;36mGeometry.__init__\u001b[1;34m(self, geo_json, opt_proj, opt_geodesic, opt_evenOdd)\u001b[0m\n\u001b[0;32m     80\u001b[0m   geo_json \u001b[39m=\u001b[39m geo_json\u001b[39m.\u001b[39mencode()\n\u001b[0;32m     82\u001b[0m \u001b[39mif\u001b[39;00m \u001b[39mnot\u001b[39;00m Geometry\u001b[39m.\u001b[39m_isValidGeometry(geo_json):\n\u001b[1;32m---> 83\u001b[0m   \u001b[39mraise\u001b[39;00m ee_exception\u001b[39m.\u001b[39mEEException(\u001b[39m'\u001b[39m\u001b[39mInvalid GeoJSON geometry.\u001b[39m\u001b[39m'\u001b[39m)\n\u001b[0;32m     85\u001b[0m \u001b[39msuper\u001b[39m()\u001b[39m.\u001b[39m\u001b[39m__init__\u001b[39m(\u001b[39mNone\u001b[39;00m, \u001b[39mNone\u001b[39;00m)\n\u001b[0;32m     87\u001b[0m \u001b[39m# The type of the geometry.\u001b[39;00m\n",
      "\u001b[1;31mEEException\u001b[0m: Invalid GeoJSON geometry."
     ]
    }
   ],
   "source": [
    "# Define the region of interest as Africa\n",
    "region = ee.Geometry.Rectangle([-20, -35, 55, 37])\n",
    "\n",
    "\n",
    "\n",
    "# Define the number of clusters\n",
    "n_clusters = 5\n",
    "\n",
    "\n",
    "# Sample the image to generate a FeatureCollection of points\n",
    "sample = NDVI_difference.sample({\n",
    "    'region': region,\n",
    "    'scale': 1000,\n",
    "    'numPixels': 10000\n",
    "})\n",
    "\n",
    "# Train the clusterer using the sampled points\n",
    "clusterer = ee.Clusterer.wekaKMeans(n_clusters).train(sample)\n",
    "result = NDVI_difference.cluster(clusterer)\n",
    "\n",
    "# Define a color palette\n",
    "palette = ['red', 'orange', 'yellow', 'lime', 'green']\n",
    "\n",
    "# Add the classified image to the map\n",
    "Map.addLayer(result, {'min': 0, 'max': n_clusters - 1, 'palette': palette}, 'Clusters')\n",
    "\n",
    "Map\n"
   ]
  }
 ],
 "metadata": {
  "kernelspec": {
   "display_name": "Python 3",
   "language": "python",
   "name": "python3"
  },
  "language_info": {
   "codemirror_mode": {
    "name": "ipython",
    "version": 3
   },
   "file_extension": ".py",
   "mimetype": "text/x-python",
   "name": "python",
   "nbconvert_exporter": "python",
   "pygments_lexer": "ipython3",
   "version": "3.8.10"
  },
  "orig_nbformat": 4
 },
 "nbformat": 4,
 "nbformat_minor": 2
}
