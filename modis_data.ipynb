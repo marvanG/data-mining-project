{
 "cells": [
  {
   "cell_type": "markdown",
   "metadata": {},
   "source": [
    "# NASA MODIS green data"
   ]
  },
  {
   "cell_type": "code",
   "execution_count": 2,
   "metadata": {},
   "outputs": [],
   "source": [
    "# Initialize Earth Engine\n",
    "import ee\n",
    "ee.Initialize()"
   ]
  },
  {
   "cell_type": "code",
   "execution_count": 3,
   "metadata": {},
   "outputs": [
    {
     "data": {
      "application/vnd.jupyter.widget-view+json": {
       "model_id": "130ad10055fd4cc684182aad45db204f",
       "version_major": 2,
       "version_minor": 0
      },
      "text/plain": [
       "Map(center=[4.075891298132545e-31, 0], controls=(WidgetControl(options=['position', 'transparent_bg'], widget=…"
      ]
     },
     "execution_count": 3,
     "metadata": {},
     "output_type": "execute_result"
    }
   ],
   "source": [
    "import geemap\n",
    "\n",
    "# Define an area of interest (optional). Here, we'll use the entire world.\n",
    "AOI = ee.Geometry.Rectangle([-180, -90, 180, 90])\n",
    "\n",
    "# Fetch the MODIS NDVI dataset for a given date range\n",
    "start_date = '2000-06-01'\n",
    "end_date = '2010-07-01'\n",
    "MODIS_NDVI = ee.ImageCollection('MODIS/061/MOD13A2').filterDate(ee.Date(start_date), ee.Date(end_date)).select('NDVI')\n",
    "\n",
    "# Calculate the mean NDVI for the date range\n",
    "mean_NDVI = MODIS_NDVI.mean()\n",
    "\n",
    "# Define visualization parameters\n",
    "vis_params = {\n",
    "    'min': 0,\n",
    "    'max': 9000,\n",
    "    'palette': ['red', 'yellow', 'green', 'darkgreen', 'blue'],\n",
    "    'breakpoints': [0, 3000, 6000, 8500, 9000]\n",
    "}\n",
    "\n",
    "# Create a map and add the NDVI layer\n",
    "Map = geemap.Map()\n",
    "Map.centerObject(AOI, 2)  # Center the map to our area of interest and set zoom level\n",
    "Map.addLayer(mean_NDVI, vis_params, 'Mean NDVI')\n",
    "Map.addLayerControl()  # This will add a layer control to toggle layers\n",
    "Map.add_colorbar(vis_params, label=\"NDVI\")\n",
    "Map\n",
    "\n",
    "\n"
   ]
  },
  {
   "cell_type": "code",
   "execution_count": 4,
   "metadata": {},
   "outputs": [
    {
     "data": {
      "application/vnd.jupyter.widget-view+json": {
       "model_id": "9f54806386f34db6aaafc2682bf22870",
       "version_major": 2,
       "version_minor": 0
      },
      "text/plain": [
       "Map(center=[4.075891298132545e-31, 0], controls=(WidgetControl(options=['position', 'transparent_bg'], widget=…"
      ]
     },
     "execution_count": 4,
     "metadata": {},
     "output_type": "execute_result"
    }
   ],
   "source": [
    "import geemap\n",
    "\n",
    "# Define an area of interest (optional). Here, we'll use the entire world.\n",
    "AOI = ee.Geometry.Rectangle([-180, -90, 180, 90])\n",
    "\n",
    "# Fetch the MODIS NDVI dataset for a given date range\n",
    "start_date = '2022-06-01'\n",
    "end_date = '2022-07-01'\n",
    "MODIS_NDVI = ee.ImageCollection('MODIS/061/MOD13A2').filterDate(ee.Date(start_date), ee.Date(end_date)).select('NDVI')\n",
    "\n",
    "# Calculate the mean NDVI for the date range\n",
    "mean_NDVI = MODIS_NDVI.mean()\n",
    "\n",
    "# Define visualization parameters\n",
    "vis_params = {\n",
    "    'min': 0,\n",
    "    'max': 9000,\n",
    "    'palette': ['red', 'yellow', 'green', 'darkgreen', 'blue'],\n",
    "    'breakpoints': [0, 3000, 6000, 8500, 9000]\n",
    "}\n",
    "\n",
    "# Create a map and add the NDVI layer\n",
    "Map = geemap.Map()\n",
    "Map.centerObject(AOI, 2)  # Center the map to our area of interest and set zoom level\n",
    "Map.addLayer(mean_NDVI, vis_params, 'Mean NDVI')\n",
    "Map.addLayerControl()  # This will add a layer control to toggle layers\n",
    "Map.add_colorbar(vis_params, label=\"NDVI\")\n",
    "Map\n"
   ]
  },
  {
   "cell_type": "code",
   "execution_count": 5,
   "metadata": {},
   "outputs": [
    {
     "name": "stdout",
     "output_type": "stream",
     "text": [
      "{'type': 'Image', 'bands': [{'id': 'NDVI', 'data_type': {'type': 'PixelType', 'precision': 'double', 'min': -32768, 'max': 32767}, 'crs': 'EPSG:4326', 'crs_transform': [1, 0, 0, 0, 1, 0]}]}\n"
     ]
    }
   ],
   "source": [
    "# info\n",
    "print(mean_NDVI.getInfo())"
   ]
  },
  {
   "cell_type": "markdown",
   "metadata": {},
   "source": [
    "# Look at difference between 2000 and 2022\n"
   ]
  },
  {
   "cell_type": "code",
   "execution_count": 6,
   "metadata": {},
   "outputs": [
    {
     "name": "stdout",
     "output_type": "stream",
     "text": [
      "Fetching data for 2000-06-01 to 2000-08-31\n",
      "Fetching data for 2001-06-01 to 2001-08-31\n",
      "Fetching data for 2002-06-01 to 2002-08-31\n",
      "Fetching data for 2003-06-01 to 2003-08-31\n",
      "\n",
      "length of image_list: 4\n",
      "Fetching data for 2019-06-01 to 2019-08-31\n",
      "Fetching data for 2020-06-01 to 2020-08-31\n",
      "Fetching data for 2021-06-01 to 2021-08-31\n",
      "Fetching data for 2022-06-01 to 2022-08-31\n",
      "\n",
      "length of image_list: 4\n"
     ]
    }
   ],
   "source": [
    "# Define date ranges for summers of 2000-2003 and 2019-2022\n",
    "dates_2000_2003 = [('2000-06-01', '2000-08-31'), ('2001-06-01', '2001-08-31'), \n",
    "                   ('2002-06-01', '2002-08-31'), ('2003-06-01', '2003-08-31')]\n",
    "\n",
    "dates_2019_2022 = [('2019-06-01', '2019-08-31'), ('2020-06-01', '2020-08-31'), \n",
    "                   ('2021-06-01', '2021-08-31'), ('2022-06-01', '2022-08-31')]\n",
    "\n",
    "# Fetch and average MODIS NDVI data for each period\n",
    "def fetch_avg_NDVI(dates):\n",
    "    image_list = []\n",
    "    for start, end in dates:\n",
    "        print(f'Fetching data for {start} to {end}')\n",
    "\n",
    "        # Fetch the MODIS NDVI dataset for a given date range\n",
    "        MODIS_NDVI = ee.ImageCollection('MODIS/061/MOD13A2').filterDate(ee.Date(start), ee.Date(end)).select('NDVI')\n",
    "\n",
    "        # Calculate the mean NDVI for the date range\n",
    "        mean_NDVI = MODIS_NDVI.mean()\n",
    "       \n",
    "        # Add the image to the list\n",
    "        image_list.append(mean_NDVI)\n",
    "\n",
    "    # Combine the list into an image collection\n",
    "    print(f'\\nlength of image_list: {len(image_list)}')\n",
    "    combined_collection = ee.ImageCollection(image_list)\n",
    "\n",
    "    return combined_collection.mean()\n",
    "\n",
    "avg_NDVI_2000_2003 = fetch_avg_NDVI(dates_2000_2003)\n",
    "avg_NDVI_2019_2022 = fetch_avg_NDVI(dates_2019_2022)\n",
    "\n"
   ]
  },
  {
   "cell_type": "markdown",
   "metadata": {},
   "source": [
    "# ... Visualization and further analysis ...\n"
   ]
  },
  {
   "cell_type": "code",
   "execution_count": 7,
   "metadata": {},
   "outputs": [
    {
     "data": {
      "application/vnd.jupyter.widget-view+json": {
       "model_id": "046cd98f4e6640cb9d87cbff5c8e412f",
       "version_major": 2,
       "version_minor": 0
      },
      "text/plain": [
       "Map(center=[4.075891298132545e-31, 0], controls=(WidgetControl(options=['position', 'transparent_bg'], widget=…"
      ]
     },
     "execution_count": 7,
     "metadata": {},
     "output_type": "execute_result"
    }
   ],
   "source": [
    "# ... Visualization and further analysis ...\n",
    "\n",
    "# Compute the difference between the two periods\n",
    "NDVI_difference = avg_NDVI_2019_2022.subtract(avg_NDVI_2000_2003)\n",
    "\n",
    "\n",
    "\n",
    "# Define visualization parameters\n",
    "vis_params = {\n",
    "    'min': -3000,\n",
    "    'max': 3000,\n",
    "    'palette': ['darkred', 'red', 'lightcoral', 'white', 'lightgreen', 'green', 'darkgreen']\n",
    "\n",
    "\n",
    "}\n",
    "\n",
    "\n",
    "# Create a map and add the NDVI layer\n",
    "Map = geemap.Map()\n",
    "Map.centerObject(AOI, 2)  # Center the map to our area of interest and set zoom level\n",
    "Map.addLayer(NDVI_difference, vis_params, 'NDVI diff')\n",
    "Map.addLayerControl()  # This will add a layer control to toggle layers\n",
    "Map.add_colorbar(vis_params, label=\"NDVI\")\n",
    "\n",
    "Map"
   ]
  },
  {
   "cell_type": "code",
   "execution_count": 8,
   "metadata": {},
   "outputs": [
    {
     "name": "stdout",
     "output_type": "stream",
     "text": [
      "{'type': 'Image', 'bands': [{'id': 'NDVI', 'data_type': {'type': 'PixelType', 'precision': 'double', 'min': -65535, 'max': 65535}, 'crs': 'EPSG:4326', 'crs_transform': [1, 0, 0, 0, 1, 0]}]}\n",
      "NDVI\n",
      "\n"
     ]
    }
   ],
   "source": [
    "# info\n",
    "print(NDVI_difference.getInfo())\n",
    "print(NDVI_difference.getInfo()['bands'][0]['id'])\n",
    "print('')"
   ]
  },
  {
   "cell_type": "markdown",
   "metadata": {},
   "source": [
    "# Nr of pixels\n"
   ]
  },
  {
   "cell_type": "code",
   "execution_count": 9,
   "metadata": {},
   "outputs": [
    {
     "name": "stdout",
     "output_type": "stream",
     "text": [
      "pixel count with function: 1.9e+08\n"
     ]
    }
   ],
   "source": [
    "# Define a global rectangle that avoids the dateline between Russia and Alaska\n",
    "global_aoi = ee.Geometry.Rectangle([-180, -90, 180, 90\n",
    "], proj='EPSG:4326', geodesic=False)\n",
    "\n",
    "\n",
    "\n",
    "# make a function to return the pixel count\n",
    "def pixel_count(image, aoi):\n",
    "    pixel_count = image.reduceRegion(\n",
    "        reducer=ee.Reducer.count(),\n",
    "        geometry=aoi,\n",
    "        scale=1000,\n",
    "        maxPixels=1e13  # Increase this if needed\n",
    "    ).get('NDVI').getInfo()\n",
    "\n",
    "    return pixel_count\n",
    "\n",
    "count = pixel_count(NDVI_difference, global_aoi)\n",
    "print(f'pixel count with function: {count:.1e}')\n"
   ]
  },
  {
   "cell_type": "markdown",
   "metadata": {},
   "source": [
    "# Sampling"
   ]
  },
  {
   "cell_type": "code",
   "execution_count": 10,
   "metadata": {},
   "outputs": [
    {
     "name": "stdout",
     "output_type": "stream",
     "text": [
      "Number of sample points: 65960\n"
     ]
    }
   ],
   "source": [
    "\n",
    "# Sample the NDVI_difference image using the adjusted global AOI\n",
    "sample = NDVI_difference.sample(region=global_aoi, seed=1, geometries=True, scale=10000, factor=0.03)\n",
    "\n",
    "\n",
    "# # Check the number of sample points\n",
    "num_samples = sample.size().getInfo()\n",
    "print(f\"Number of sample points: {num_samples}\")\n",
    "\n",
    "# # Convert FeatureCollection to List\n",
    "# sample_list = sample.toList(sample.size())\n",
    "# print(f\"Sample list length: {sample_list.size().getInfo()}\")\n",
    "# print(f\"Sample list type: {type(sample_list)}\")\n",
    "# print(f\"Sample list element type: {type(sample_list.get(0))}\")\n",
    "# print(f'\\nfirst element: {sample_list.get(0).getInfo()}')\n",
    "\n",
    "# # Convert FeatureCollection to List\n",
    "# sample_list = sample.toList(sample.size())\n",
    "\n",
    "# # Extract coordinates OBS: MAX 5000 POINTS-------------------------\n",
    "# sample_features = sample.getInfo()['features']\n",
    "# coordinates = [feature['geometry']['coordinates'] for feature in sample_features]\n",
    "\n",
    "\n",
    "# print(f'length of coordinates: {len(coordinates)}')\n",
    "\n",
    "\n",
    "# # Warning: this next part will take a while to run!\n",
    "# Map = geemap.Map()\n",
    "# Map.centerObject(AOI, 2)  # Center on Luxembourg and zoom in\n",
    "\n",
    "# Add each coordinate as a marker\n",
    "# for coord in coordinates:\n",
    "#     Map.add_marker(location=(coord[1], coord[0]), color=\"red\")\n",
    "\n",
    "# Map\n"
   ]
  },
  {
   "cell_type": "code",
   "execution_count": 11,
   "metadata": {},
   "outputs": [],
   "source": [
    "# print(f'first sample feature: {sample_features[0]}')\n",
    "# print(f'second sample feature: {sample_features[1]}')"
   ]
  },
  {
   "cell_type": "code",
   "execution_count": 12,
   "metadata": {},
   "outputs": [],
   "source": [
    "# # test wether the ndvi values of sample coordinates are the same as the ones in the NDVI_difference image\n",
    "\n",
    "# print(f'NDVI diff value of first sample point: {sample_features[0][\"properties\"]}')\n",
    "# print(f'coordinates of first sample point: {coordinates[0]}')\n",
    "\n",
    "# # Locate pixel and ndvi value of first sample point from NDVI_difference image\n",
    "# pixel = NDVI_difference.reduceRegion(ee.Reducer.first(), ee.Geometry.Point(coordinates[0]), 1000)\n",
    "# print(f'NDVI diff value of first sample point: {pixel.getInfo()}')\n",
    "\n",
    "# # second sample point\n",
    "# print(f'\\nNDVI diff value of second sample point: {sample_features[1][\"properties\"]}')\n",
    "# print(f'coordinates of second sample point: {coordinates[1]}')\n",
    "\n",
    "# # Locate pixel and ndvi value of second sample point from NDVI_difference image\n",
    "# pixel = NDVI_difference.reduceRegion(ee.Reducer.first(), ee.Geometry.Point(coordinates[1]), 1000)\n",
    "# print(f'NDVI diff value of second sample point: {pixel.getInfo()}')\n",
    "\n"
   ]
  },
  {
   "cell_type": "markdown",
   "metadata": {},
   "source": [
    "# Map samples"
   ]
  },
  {
   "cell_type": "code",
   "execution_count": 13,
   "metadata": {},
   "outputs": [],
   "source": [
    "# # Buffer each point to create a 10x10 km circle around each point\n",
    "# bufferedFeatures = sample.map(lambda feature: feature.buffer(5000))\n",
    "\n",
    "# # Convert buffered feature collection back to image with NDVI values\n",
    "# sample_image = ee.Image().float().paint(bufferedFeatures, 'NDVI', 2)\n",
    "\n",
    "\n",
    "\n",
    "# ndvi_vis_params = {\n",
    "#     'min': -500,\n",
    "#     'max': 500,\n",
    "#     'palette': ['brown', 'yellow', 'green']\n",
    "# }\n",
    "\n",
    "# Map = geemap.Map()\n",
    "# Map.centerObject(AOI, 2)  \n",
    "\n",
    "# # Add the sample_image with the NDVI color palette\n",
    "# Map.addLayer(sample_image, ndvi_vis_params, \"Sampled NDVI Values\")\n",
    "\n",
    "# Map.add_colorbar(ndvi_vis_params, label=\"NDVI\")\n",
    "# Map\n"
   ]
  },
  {
   "cell_type": "markdown",
   "metadata": {},
   "source": [
    "# Histogram and Results"
   ]
  },
  {
   "cell_type": "code",
   "execution_count": 14,
   "metadata": {},
   "outputs": [
    {
     "name": "stdout",
     "output_type": "stream",
     "text": [
      "data length: 65960\n"
     ]
    }
   ],
   "source": [
    "# Convert the sample to a NDVI list for plotting\n",
    "import numpy as np\n",
    "data_list = sample.aggregate_array('NDVI').getInfo()\n",
    "\n",
    "#  Convert the list to a numpy array\n",
    "NDVI_data = np.array(data_list)\n",
    "print(f'data length: {len(NDVI_data)}')"
   ]
  },
  {
   "cell_type": "code",
   "execution_count": 15,
   "metadata": {},
   "outputs": [],
   "source": [
    "# # convert samples to a list of coordinates\n",
    "# sample_features = sample.getInfo()['features']\n"
   ]
  },
  {
   "cell_type": "code",
   "execution_count": 16,
   "metadata": {},
   "outputs": [],
   "source": [
    "# Convert data to a pandas dataframe\n",
    "import pandas as pd\n",
    "df = pd.DataFrame(NDVI_data, columns=['NDVI'])\n"
   ]
  },
  {
   "cell_type": "code",
   "execution_count": 17,
   "metadata": {},
   "outputs": [
    {
     "name": "stdout",
     "output_type": "stream",
     "text": [
      "Length: 65960\n",
      "Mean: 150.12297183478202\n",
      "Standard deviation: 438.75297620126986\n",
      "\n",
      "length after removing outliers: 65749\n",
      "mean after removing outliers: 147.9524175906351\n",
      "std after removing outliers: 412.1764128657947\n"
     ]
    }
   ],
   "source": [
    "# results\n",
    "mean_diff = np.mean(NDVI_data)\n",
    "std_diff = np.std(NDVI_data)\n",
    "diff_len = len(NDVI_data)\n",
    "print(f'Length: {diff_len}')\n",
    "print(f'Mean: {mean_diff}')\n",
    "print(f'Standard deviation: {std_diff}')\n",
    "\n",
    "# remove outliers\n",
    "clean_data = NDVI_data[np.abs(NDVI_data) <= 2000]\n",
    "print(f'\\nlength after removing outliers: {len(clean_data)}')\n",
    "print(f'mean after removing outliers: {np.mean(clean_data)}')\n",
    "print(f'std after removing outliers: {np.std(clean_data)}')\n"
   ]
  },
  {
   "cell_type": "code",
   "execution_count": 18,
   "metadata": {},
   "outputs": [
    {
     "data": {
      "image/png": "[encoded data removed]",
      "text/plain": [
       "<Figure size 640x480 with 1 Axes>"
      ]
     },
     "metadata": {},
     "output_type": "display_data"
    }
   ],
   "source": [
    "\n",
    "import matplotlib.pyplot as plt\n",
    "\n",
    "\n",
    "# Separate the data into positive and negative values\n",
    "negative_data = clean_data[clean_data< 0]\n",
    "positive_data = clean_data[clean_data >= 0]\n",
    "\n",
    "# Plot the histogram for negative values\n",
    "plt.hist(negative_data, bins=50, color='red', edgecolor='black', label='Negative Values')\n",
    "\n",
    "# Plot the histogram for positive values\n",
    "plt.hist(positive_data, bins=50, color='green', edgecolor='black', label='Positive Values')\n",
    "\n",
    "plt.title('Histogram of NDVI Difference')\n",
    "plt.xlabel('NDVI Difference')\n",
    "plt.ylabel('Number of Pixels')\n",
    "plt.legend()\n",
    "plt.show()\n"
   ]
  },
  {
   "cell_type": "markdown",
   "metadata": {},
   "source": [
    "# Clustering\n"
   ]
  },
  {
   "cell_type": "markdown",
   "metadata": {},
   "source": [
    "### Filtering"
   ]
  },
  {
   "cell_type": "code",
   "execution_count": 19,
   "metadata": {},
   "outputs": [
    {
     "name": "stdout",
     "output_type": "stream",
     "text": [
      "positive samples: 46548\n",
      "negative samples: 19406\n",
      "zero diff samples: 6\n",
      "total samples: 65960\n"
     ]
    }
   ],
   "source": [
    "# Separate the data into positive and negative values\n",
    "# Filtering\n",
    "\n",
    "positive_samples = sample.filter(ee.Filter.gt('NDVI', 0))\n",
    "negative_samples = sample.filter(ee.Filter.lt('NDVI', 0))\n",
    "zero_diff_samples = sample.filter(ee.Filter.eq('NDVI', 0))\n",
    "\n",
    "positive_nr = positive_samples.size().getInfo()\n",
    "negative_nr = negative_samples.size().getInfo()\n",
    "zero_diff_nr = zero_diff_samples.size().getInfo()\n",
    "print(f'positive samples: {positive_nr}')\n",
    "print(f'negative samples: {negative_nr}')\n",
    "print(f'zero diff samples: {zero_diff_nr}')\n",
    "print(f'total samples: {positive_nr + negative_nr + zero_diff_nr}')"
   ]
  },
  {
   "cell_type": "markdown",
   "metadata": {},
   "source": [
    "### Adding coordinates as features"
   ]
  },
  {
   "cell_type": "code",
   "execution_count": 20,
   "metadata": {},
   "outputs": [
    {
     "name": "stdout",
     "output_type": "stream",
     "text": [
      "{'NDVI': 254.20833333333348}\n",
      "{'NDVI': -37.374999999999545}\n",
      "{'NDVI': 254.20833333333348, 'latitude': -46.25892916119886, 'longitude': -68.63121776392138}\n",
      "{'NDVI': -37.374999999999545, 'latitude': 45.617693606693955, 'longitude': 71.28187575207517}\n",
      "\n",
      "samples both positive and negative:\n",
      "{'NDVI': 254.20833333333348, 'latitude': -46.25892916119886, 'longitude': -68.63121776392138}\n",
      "first positive sample: {'NDVI': 0.025420833333333347, 'latitude': -46.25892916119886, 'longitude': -68.63121776392138}\n",
      "first normalized negative sample: {'NDVI': -0.0037374999999999544, 'latitude': 45.617693606693955, 'longitude': 71.28187575207517}\n"
     ]
    }
   ],
   "source": [
    "# testing\n",
    "# Check the properties of the first feature in positive_samples\n",
    "first_positive_sample = positive_samples.first()\n",
    "print(first_positive_sample.getInfo()['properties'])\n",
    "\n",
    "# Check the properties of the first feature in negative_samples\n",
    "first_negative_sample = negative_samples.first()\n",
    "print(first_negative_sample.getInfo()['properties'])\n",
    "\n",
    "# need to add coordinates to the sample features\n",
    "def add_coordinates(feature):\n",
    "    # Return the feature with a longitude and latitude property.\n",
    "   \n",
    "    return feature.set('longitude', feature.geometry().coordinates().get(0))  \\\n",
    "                  .set('latitude', feature.geometry().coordinates().get(1))  \\\n",
    "                    \n",
    "\n",
    "def normalize_NDVI(feature):\n",
    "    # normalize NDVI values to range from -1 to 1\n",
    "    return feature.set('NDVI', feature.getNumber('NDVI').divide(10000))  \\\n",
    "\n",
    "def normalize_coordinates(feature):\n",
    "    # normalize coordinates to range from -1 to 1\n",
    "    return feature.set('longitude', feature.getNumber('longitude').divide(180))  \\\n",
    "                  .set('latitude', feature.getNumber('latitude').divide(90))  \\\n",
    "# Map the function over the sample\n",
    "positive_samples_with_coordinates = positive_samples.map(add_coordinates)\n",
    "negative_samples_with_coordinates = negative_samples.map(add_coordinates)\n",
    "\n",
    "samples_with_coordinates = sample.map(add_coordinates)\n",
    "\n",
    "# Testing again\n",
    "first_positive_sample = positive_samples_with_coordinates.first()\n",
    "print(first_positive_sample.getInfo()['properties'])\n",
    "first_negative_sample = negative_samples_with_coordinates.first()\n",
    "print(first_negative_sample.getInfo()['properties'])\n",
    "\n",
    "first_samples_with_coordinates = samples_with_coordinates.first()\n",
    "print('\\nsamples both positive and negative:')\n",
    "print(first_samples_with_coordinates.getInfo()['properties'])\n",
    "\n",
    "# Normalize the NDVI values\n",
    "normalized_positive_samples = positive_samples_with_coordinates.map(normalize_NDVI)\n",
    "normalized_negative_samples = negative_samples_with_coordinates.map(normalize_NDVI)\n",
    "normalized_neutral_samples = samples_with_coordinates.map(normalize_NDVI)\n",
    "\n",
    "# Testing again\n",
    "print(f'first positive sample: {normalized_positive_samples.first().getInfo()[\"properties\"]}')\n",
    "print(f'first normalized negative sample: {normalized_negative_samples.first().getInfo()[\"properties\"]}')\n"
   ]
  },
  {
   "cell_type": "code",
   "execution_count": 21,
   "metadata": {},
   "outputs": [
    {
     "name": "stdout",
     "output_type": "stream",
     "text": [
      "length of longitudes: 65960\n",
      "length of latitudes: 65960\n"
     ]
    }
   ],
   "source": [
    "# add longitudes and latitudes to df\n",
    "data_list1 = samples_with_coordinates.aggregate_array('longitude').getInfo()\n",
    "data_list2 = samples_with_coordinates.aggregate_array('latitude').getInfo()\n",
    "\n",
    "# convert to numpy array\n",
    "longitudes = np.array(data_list1)\n",
    "latitudes = np.array(data_list2)\n",
    "print(f'length of longitudes: {len(longitudes)}')\n",
    "print(f'length of latitudes: {len(latitudes)}')"
   ]
  },
  {
   "cell_type": "code",
   "execution_count": 22,
   "metadata": {},
   "outputs": [
    {
     "name": "stdout",
     "output_type": "stream",
     "text": [
      "length of labels: 65960\n",
      "number of clusters: 18\n",
      "number of noise points: 45709\n",
      "number of points in each cluster: [45709  8752  1530  2313   352  2004  2243   557   482   366   175   519\n",
      "   137   203   127   105   126   160   100]\n"
     ]
    }
   ],
   "source": [
    "# Add the longitudes and latitudes to the dataframe\n",
    "df['longitude'] = longitudes\n",
    "df['latitude'] = latitudes\n",
    "df['NDVI'] = NDVI_data /100\n",
    "\n",
    "\n",
    "# dbscan\n",
    "from sklearn.cluster import DBSCAN\n",
    "from sklearn import metrics\n",
    "from sklearn.preprocessing import StandardScaler\n",
    "\n",
    "# Normalize the NDVI values by dividing by 10000\n",
    "\n",
    "# Compute DBSCAN\n",
    "X = df[['longitude', 'latitude', 'NDVI']].values\n",
    "db = DBSCAN(eps=3, min_samples=100).fit(X)\n",
    "\n",
    "\n",
    "labels = db.labels_\n",
    "print(f'length of labels: {len(labels)}')\n",
    "\n",
    "\n",
    "# Number of clusters in labels, ignoring noise if present.\n",
    "n_clusters_ = len(set(labels)) - (1 if -1 in labels else 0)\n",
    "print(f'number of clusters: {n_clusters_}')\n",
    "print(f'number of noise points: {list(labels).count(-1)}')\n",
    "print(f'number of points in each cluster: {np.bincount(labels + 1)}')\n",
    "\n"
   ]
  },
  {
   "cell_type": "code",
   "execution_count": 23,
   "metadata": {},
   "outputs": [
    {
     "data": {
      "image/png": "[encoded data removed]",
      "text/plain": [
       "<Figure size 900x900 with 1 Axes>"
      ]
     },
     "metadata": {},
     "output_type": "display_data"
    }
   ],
   "source": [
    "# plot results\n",
    "import matplotlib.pyplot as plt\n",
    "\n",
    "\n",
    "figure = plt.figure(figsize=(9, 9))\n",
    "cluster_colors = {-1: 'black', 0: 'red', 1: 'green', 2: 'blue', 3: 'yellow', 4: 'orange', 5: 'purple', 6: 'pink', 7: 'brown', 8: 'gray', 9: 'cyan', 10: 'magenta', 11: 'olive', 12: 'lime', 13: 'teal', 14: 'coral', 15: 'gold', 16: 'navy', 17: 'tan', 18: 'darkorange', 19: 'darkred', 20: 'darkgreen', 21: 'darkblue', 22: 'darkyellow', 23: 'darkorange', 24: 'darkpurple', 25: 'darkpink', 26: 'darkbrown', 27: 'darkgray', 28: 'darkcyan', 29: 'darkmagenta', 30: 'darkolive', 31: 'darklime', 32: 'darkteal', 33: 'darkcoral', 34: 'darkgold', 35: 'darknavy', 36: 'darktan', 37: 'lightred', 38: 'lightgreen', 39: 'lightblue', 40: 'lightyellow', 41: 'lightorange', 42: 'lightpurple', 43: 'lightpink', 44: 'lightbrown', 45: 'lightgray', 46: 'lightcyan', 47: 'lightmagenta', 48: 'lightolive', 49: 'lightlime', 50: 'lightteal', 51: 'lightcoral', 52: 'lightgold', 53: 'lightnavy', 54: 'lighttan'}\n",
    "plt.scatter(df['longitude'], df['latitude'], c=[cluster_colors[label] for label in labels])\n",
    "plt.title('DBSCAN Clustering')\n",
    "plt.xlabel('Longitude')\n",
    "plt.ylabel('Latitude')\n",
    "plt.show()\n"
   ]
  },
  {
   "cell_type": "code",
   "execution_count": 24,
   "metadata": {},
   "outputs": [
    {
     "data": {
      "application/vnd.jupyter.widget-view+json": {
       "model_id": "046cd98f4e6640cb9d87cbff5c8e412f",
       "version_major": 2,
       "version_minor": 0
      },
      "text/plain": [
       "Map(center=[4.075891298132545e-31, 0], crs={'name': 'EPSG3857', 'custom': False}, default_style=MapStyle(), dr…"
      ]
     },
     "execution_count": 24,
     "metadata": {},
     "output_type": "execute_result"
    }
   ],
   "source": [
    "# Clustering\n",
    "# Clusters of NDVI difference values\n",
    "\n",
    "\n",
    "# Define the number of clusters\n",
    "n_clusters = 3\n",
    "\n",
    "# positive_clusterer = ee.Clusterer.wekaKMeans(n_clusters).train(positive_samples_with_coordinates)\n",
    "# negative_clusterer = ee.Clusterer.wekaKMeans(n_clusters).train(negative_samples_with_coordinates)\n",
    "\n",
    "# positive_clustered_image = NDVI_difference.cluster(positive_clusterer)\n",
    "# negative_clustered_image = NDVI_difference.cluster(negative_clusterer)\n",
    "\n",
    "# neutral_clusterer = ee.Clusterer.wekaKMeans(n_clusters).train(samples_with_coordinates)\n",
    "# neutral_clustered_image = NDVI_difference.cluster(neutral_clusterer)\n",
    "\n",
    "normalized_neutral_clusterer = ee.Clusterer.wekaKMeans(n_clusters).train(normalized_neutral_samples)\n",
    "normalized_neutral_clustered_image = NDVI_difference.cluster(normalized_neutral_clusterer)\n",
    "\n",
    "\n",
    "\n",
    "#  Define visualization parameters for the clusters\n",
    "\n",
    "# Visualization parameters\n",
    "viz_params = {\n",
    "    'min': 0,\n",
    "    'max': n_clusters - 1, \n",
    "    'palette': ['red', 'green', 'blue']\n",
    "}\n",
    "\n",
    "Map.clear()\n",
    "Map.addLayer(normalized_neutral_clustered_image, viz_params, 'Clusters')\n",
    "\n",
    "Map\n",
    "\n",
    "\n"
   ]
  },
  {
   "cell_type": "code",
   "execution_count": 25,
   "metadata": {},
   "outputs": [
    {
     "name": "stdout",
     "output_type": "stream",
     "text": [
      "{'cluster': {'0': 1411850.976470615, '1': 335.00392156862745, '2': 506814.635294123}}\n"
     ]
    }
   ],
   "source": [
    "histogram = normalized_neutral_clustered_image.reduceRegion(\n",
    "    reducer=ee.Reducer.frequencyHistogram(),\n",
    "    geometry=global_aoi,\n",
    "    scale=10000,\n",
    "    maxPixels=1e9\n",
    ").getInfo()\n",
    "\n",
    "print(histogram)\n"
   ]
  },
  {
   "cell_type": "code",
   "execution_count": 26,
   "metadata": {},
   "outputs": [
    {
     "data": {
      "application/vnd.jupyter.widget-view+json": {
       "model_id": "5ad8899230534e4086feaf949c5bf5d8",
       "version_major": 2,
       "version_minor": 0
      },
      "text/plain": [
       "Box(children=(FloatSlider(value=1.0, description='opacity', max=1.0),))"
      ]
     },
     "execution_count": 26,
     "metadata": {},
     "output_type": "execute_result"
    }
   ],
   "source": [
    "cluster_layer = Map.layers[-1]\n",
    "cluster_layer.interact(opacity=(0, 1, 0.1))"
   ]
  },
  {
   "attachments": {},
   "cell_type": "markdown",
   "metadata": {},
   "source": [
    "# Filtering\n",
    "#### Let's create a filter for the quality of the Picture.\n"
   ]
  },
  {
   "cell_type": "code",
   "execution_count": 27,
   "metadata": {},
   "outputs": [],
   "source": [
    "#Available qualities\n",
    "available_Qualities = [0,1,2,3]\n",
    "bad_quality = 2\n",
    "\n",
    "#choose what quality is too bad to keep\n",
    "available_Usefulness = [0,1,2,4,8,9,10,12,13,14,15]\n",
    "\n",
    "#choose what quality is too bad to keep\n",
    "bad_usefulness = 13\n",
    "\n",
    "\n",
    "#filter to keep only pixels with a certain image quality or better\n",
    "def mask_bad_data(image):\n",
    "    getIndex = available_Usefulness.index(bad_usefulness)\n",
    "    maskSize = ee.Number(1).add(5).subtract(2)\n",
    "    maskCur = ee.Number(1).leftShift(maskSize).subtract(1)\n",
    "    mask = image.select('DetailedQA').rightShift(2).bitwiseAnd(maskCur).eq(available_Usefulness[0])\n",
    "    for i in range(1,getIndex):\n",
    "        # Use the QA band to mask \"bad\" data points\n",
    "        mask2 = image.select('DetailedQA').rightShift(2).bitwiseAnd(maskCur).eq(available_Usefulness[i])\n",
    "        mask = mask.Or(mask2)\n",
    "\n",
    "    maskSize = ee.Number(1).add(1).subtract(0)\n",
    "    maskCur = ee.Number(1).leftShift(maskSize).subtract(1)\n",
    "    mask3 = image.select('DetailedQA').rightShift(0).bitwiseAnd(maskCur).eq(available_Qualities[0])\n",
    "    for i in range(1,bad_quality):\n",
    "        # Use the QA band to mask \"bad\" data points\n",
    "        mask2 = image.select('DetailedQA').rightShift(2).bitwiseAnd(maskCur).eq(available_Qualities[i])\n",
    "        mask3 = mask3.Or(mask2)\n",
    "\n",
    "    mask = mask.And(mask3)\n",
    "    \n",
    "    return image.updateMask(mask)\n",
    "\n",
    "#show all the pixels that were deleted due to bad quality in previous filter\n",
    "def show_bad_data(image):\n",
    "    getIndex = available_Usefulness.index(bad_usefulness)\n",
    "    maskSize = ee.Number(1).add(5).subtract(2)\n",
    "    maskCur = ee.Number(1).leftShift(maskSize).subtract(1)\n",
    "    mask = image.select('DetailedQA').rightShift(2).bitwiseAnd(maskCur).eq(available_Usefulness[getIndex])\n",
    "    if getIndex + 1 < len(available_Usefulness):\n",
    "        for i in range(getIndex+1,len(available_Usefulness)):\n",
    "            # Use the QA band to mask \"bad\" data points\n",
    "            mask2 = image.select('DetailedQA').rightShift(2).bitwiseAnd(maskCur).eq(available_Usefulness[i])\n",
    "            mask = mask.Or(mask2)\n",
    "\n",
    "    maskSize = ee.Number(1).add(1).subtract(0)\n",
    "    maskCur = ee.Number(1).leftShift(maskSize).subtract(1)\n",
    "    mask3 = image.select('DetailedQA').rightShift(0).bitwiseAnd(maskCur).eq(available_Qualities[bad_quality])\n",
    "    if bad_quality + 1 < len(available_Qualities):\n",
    "        for i in range(bad_quality+1,len(available_Qualities)):\n",
    "            # Use the QA band to mask \"bad\" data points\n",
    "            mask2 = image.select('DetailedQA').rightShift(2).bitwiseAnd(maskCur).eq(available_Qualities[i])\n",
    "            mask3 = mask3.Or(mask2)\n",
    "        \n",
    "    mask4 = mask.Not().And(mask3)\n",
    "    mask5 = mask.And(mask3.Not())\n",
    "    mask = mask.And(mask3)\n",
    "    mask = mask.Or(mask4).Or(mask5)\n",
    "    \n",
    "    return image.updateMask(mask)"
   ]
  },
  {
   "attachments": {},
   "cell_type": "markdown",
   "metadata": {},
   "source": [
    "#### First we show all the pixels that were removed due to the bad quality"
   ]
  },
  {
   "cell_type": "code",
   "execution_count": 28,
   "metadata": {},
   "outputs": [
    {
     "name": "stdout",
     "output_type": "stream",
     "text": [
      "test image count: 1.3e+08\n",
      "bad pixel count with function: 1.5e+07\n"
     ]
    },
    {
     "data": {
      "application/vnd.jupyter.widget-view+json": {
       "model_id": "9ed62f24424d404eb4fa5021d6a55f3d",
       "version_major": 2,
       "version_minor": 0
      },
      "text/plain": [
       "Map(center=[4.075891298132545e-31, 0], controls=(WidgetControl(options=['position', 'transparent_bg'], widget=…"
      ]
     },
     "execution_count": 28,
     "metadata": {},
     "output_type": "execute_result"
    }
   ],
   "source": [
    "#test filter on one image\n",
    "#first let's show the removed pixels\n",
    "testImage = ee.ImageCollection('MODIS/061/MOD13A2').filterDate(ee.Date('2019-06-01'), ee.Date('2019-06-12')).select(['NDVI','DetailedQA'])\n",
    "removedPixel = testImage.map(show_bad_data).first()\n",
    "\n",
    "test_image_count = pixel_count(testImage.first(), global_aoi)\n",
    "print(f'test image count: {test_image_count:.1e}')\n",
    "\n",
    "bad_pixel_count = pixel_count(removedPixel, global_aoi)\n",
    "\n",
    "print(f'bad pixel count with function: {bad_pixel_count:.1e}')\n",
    "vis_params = {\n",
    "    'min': -3000,\n",
    "    'max': 3000,\n",
    "    'palette': [\n",
    "         'ce7e45', 'df923d', 'f1b555', 'fcd163', '99b718', '74a901',\n",
    "        '66a000', '529400', '3e8601', '207401', '056201', '004c00', '023b01',\n",
    "        '012e01', '011d01', '011301'\n",
    "    ],\n",
    "}\n",
    "\n",
    "# Create a map and add the NDVI layer\n",
    "Map = geemap.Map()\n",
    "Map.centerObject(AOI, 2)  # Center the map to our area of interest and set zoom level\n",
    "Map.addLayer(removedPixel.select('NDVI'), vis_params, 'Mean Filtered')\n",
    "Map.addLayerControl()  # This will add a layer control to toggle layers\n",
    "Map.add_colorbar(vis_params, label=\"NDVI\")\n",
    "Map"
   ]
  },
  {
   "attachments": {},
   "cell_type": "markdown",
   "metadata": {},
   "source": [
    "#### Now we show all the pixels that were kept. (As you can see it has the white areas were we removed the pixels)"
   ]
  },
  {
   "cell_type": "code",
   "execution_count": 29,
   "metadata": {},
   "outputs": [
    {
     "name": "stdout",
     "output_type": "stream",
     "text": [
      "filtered ndvi count: 1.1e+08\n"
     ]
    },
    {
     "data": {
      "application/vnd.jupyter.widget-view+json": {
       "model_id": "46795cff679f489f8f53476bda91ae2a",
       "version_major": 2,
       "version_minor": 0
      },
      "text/plain": [
       "Map(center=[4.075891298132545e-31, 0], controls=(WidgetControl(options=['position', 'transparent_bg'], widget=…"
      ]
     },
     "execution_count": 29,
     "metadata": {},
     "output_type": "execute_result"
    }
   ],
   "source": [
    "#now let's see the filtered image\n",
    "filtered_ndvi = testImage.map(mask_bad_data)\n",
    "\n",
    "filtered_ndvi_count = pixel_count(filtered_ndvi.first(), global_aoi)\n",
    "print(f'filtered ndvi count: {filtered_ndvi_count:.1e}')\n",
    "\n",
    "vis_params = {\n",
    "    'min': -3000,\n",
    "    'max': 3000,\n",
    "    'palette': [\n",
    "        'ce7e45', 'df923d', 'f1b555', 'fcd163', '99b718', '74a901',\n",
    "        '66a000', '529400', '3e8601', '207401', '056201', '004c00', '023b01',\n",
    "        '012e01', '011d01', '011301'\n",
    "    ],\n",
    "}\n",
    "\n",
    "# Create a map and add the NDVI layer\n",
    "Map = geemap.Map()\n",
    "Map.centerObject(AOI, 2)  # Center the map to our area of interest and set zoom level\n",
    "Map.addLayer(filtered_ndvi.select('NDVI'), vis_params, 'Mean Filtered')\n",
    "Map.addLayerControl()  # This will add a layer control to toggle layers\n",
    "Map.add_colorbar(vis_params, label=\"NDVI\")\n",
    "Map"
   ]
  },
  {
   "attachments": {},
   "cell_type": "markdown",
   "metadata": {},
   "source": [
    "#### Now lets do our 20 year test without the bad pixel"
   ]
  },
  {
   "cell_type": "code",
   "execution_count": 30,
   "metadata": {},
   "outputs": [
    {
     "name": "stdout",
     "output_type": "stream",
     "text": [
      "Fetching data for 2000-06-01 to 2000-08-31\n",
      "Fetching data for 2001-06-01 to 2001-08-31\n",
      "Fetching data for 2002-06-01 to 2002-08-31\n",
      "Fetching data for 2003-06-01 to 2003-08-31\n",
      "\n",
      "length of image_list: 4\n",
      "Fetching data for 2019-06-01 to 2019-08-31\n",
      "Fetching data for 2020-06-01 to 2020-08-31\n",
      "Fetching data for 2021-06-01 to 2021-08-31\n",
      "Fetching data for 2022-06-01 to 2022-08-31\n",
      "\n",
      "length of image_list: 4\n",
      "filtered difference count with function: 1.8e+08\n"
     ]
    },
    {
     "data": {
      "application/vnd.jupyter.widget-view+json": {
       "model_id": "85f59b0a6aaa455db4fca414479eaed4",
       "version_major": 2,
       "version_minor": 0
      },
      "text/plain": [
       "Map(center=[4.075891298132545e-31, 0], controls=(WidgetControl(options=['position', 'transparent_bg'], widget=…"
      ]
     },
     "execution_count": 30,
     "metadata": {},
     "output_type": "execute_result"
    }
   ],
   "source": [
    "\n",
    "dates_2000_2003 = [('2000-06-01', '2000-08-31'), ('2001-06-01', '2001-08-31'), \n",
    "                   ('2002-06-01', '2002-08-31'), ('2003-06-01', '2003-08-31')]\n",
    "\n",
    "dates_2019_2022 = [('2019-06-01', '2019-08-31'), ('2020-06-01', '2020-08-31'), \n",
    "                   ('2021-06-01', '2021-08-31'), ('2022-06-01', '2022-08-31')]\n",
    "\n",
    "\n",
    "def fetch_avg_NDVI_Filtered(dates):\n",
    "    filtered_list = []\n",
    "    for start, end in dates:\n",
    "        print(f'Fetching data for {start} to {end}')\n",
    "\n",
    "        # Fetch the MODIS NDVI dataset for a given date range\n",
    "        MODIS_NDVI = ee.ImageCollection('MODIS/061/MOD13A2').filterDate(ee.Date(start), ee.Date(end)).select(['NDVI','DetailedQA'])\n",
    "\n",
    "        filtered_ndvi = MODIS_NDVI.map(mask_bad_data)\n",
    "        \n",
    "        # Calculate the mean NDVI for the date range\n",
    "        mean_Filter = filtered_ndvi.mean()\n",
    "       \n",
    "        # Add the image to the list\n",
    "        filtered_list.append(mean_Filter)\n",
    "\n",
    "    # Combine the list into an image collection\n",
    "    print(f'\\nlength of image_list: {len(filtered_list)}')\n",
    "    combined_filtered = ee.ImageCollection(filtered_list)\n",
    "\n",
    "    return combined_filtered.mean()\n",
    "\n",
    "avg_Filter_2000_2003 = fetch_avg_NDVI_Filtered(dates_2000_2003)\n",
    "avg_Filter_2019_2022 = fetch_avg_NDVI_Filtered(dates_2019_2022)\n",
    "\n",
    "Filter_difference = avg_Filter_2019_2022.subtract(avg_Filter_2000_2003)\n",
    "\n",
    "count_filtered_difference = pixel_count(Filter_difference, global_aoi)\n",
    "print(f'filtered difference count with function: {count_filtered_difference:.1e}')\n",
    "\n",
    "# Define visualization parameters\n",
    "vis_params = {\n",
    "   \n",
    "    'min': -3000,\n",
    "    'max': 3000,\n",
    "    'palette': ['darkred', 'red', 'lightcoral', 'white', 'lightgreen', 'green', 'darkgreen']\n",
    "\n",
    "\n",
    "}\n",
    "\n",
    "\n",
    "# Create a map and add the NDVI layer\n",
    "Map = geemap.Map()\n",
    "Map.centerObject(AOI, 2)  # Center the map to our area of interest and set zoom level\n",
    "Map.addLayer(Filter_difference.select('NDVI'), vis_params, 'Mean Filtered')\n",
    "Map.addLayerControl()  # This will add a layer control to toggle layers\n",
    "Map.add_colorbar(vis_params, label=\"NDVI\")\n",
    "Map"
   ]
  },
  {
   "cell_type": "code",
   "execution_count": 31,
   "metadata": {},
   "outputs": [
    {
     "name": "stdout",
     "output_type": "stream",
     "text": [
      "data length: 61986\n"
     ]
    }
   ],
   "source": [
    "# sample the filtered difference image\n",
    "\n",
    "filtered_samples = Filter_difference.sample(region=global_aoi, seed=1, geometries=True, scale=10000, factor=0.03)\n",
    "\n",
    "# Convert the sample to a NDVI list for plotting\n",
    "import numpy as np\n",
    "filtered_data_list = filtered_samples.aggregate_array('NDVI').getInfo()\n",
    "\n",
    "#  Convert the list to a numpy array\n",
    "filtered_NDVI_data = np.array(filtered_data_list)\n",
    "print(f'data length: {len(filtered_NDVI_data)}')\n"
   ]
  },
  {
   "cell_type": "code",
   "execution_count": 40,
   "metadata": {},
   "outputs": [
    {
     "name": "stdout",
     "output_type": "stream",
     "text": [
      "mean: 108.09365354004667\n",
      "std: 466.9408425159469\n",
      "length: 61986\n",
      "\n",
      "length after removing outliers: 61578\n",
      "mean after removing outliers: 103.3744199993865\n",
      "std after removing outliers: 408.787470821993\n"
     ]
    },
    {
     "data": {
      "text/plain": [
       "<matplotlib.legend.Legend at 0x2522a52de50>"
      ]
     },
     "execution_count": 40,
     "metadata": {},
     "output_type": "execute_result"
    },
    {
     "data": {
      "image/png": "[encoded data removed]",
      "text/plain": [
       "<Figure size 640x480 with 1 Axes>"
      ]
     },
     "metadata": {},
     "output_type": "display_data"
    }
   ],
   "source": [
    "# info\n",
    "mean_filtered_diff = np.mean(filtered_NDVI_data)\n",
    "std_filtered_diff = np.std(filtered_NDVI_data)\n",
    "print(f'mean: {mean_filtered_diff}')\n",
    "print(f'std: {std_filtered_diff}')\n",
    "print(f'length: {len(filtered_NDVI_data)}')\n",
    "\n",
    "# remove outliers\n",
    "filtered_clean_data = filtered_NDVI_data[np.abs(filtered_NDVI_data) <= 2000]\n",
    "print(f'\\nlength after removing outliers: {len(filtered_clean_data)}')\n",
    "print(f'mean after removing outliers: {np.mean(filtered_clean_data)}')\n",
    "print(f'std after removing outliers: {np.std(filtered_clean_data)}')\n",
    "\n",
    "# plot histogram\n",
    "import matplotlib.pyplot as plt\n",
    "\n",
    "# separate the data into positive and negative values\n",
    "filtered_negative_data = filtered_clean_data[filtered_clean_data< 0]\n",
    "filtered_positive_data = filtered_clean_data[filtered_clean_data >= 0]\n",
    "\n",
    "plt.hist(filtered_negative_data, bins=50, color='red', edgecolor='black', label='Negative Values')\n",
    "plt.hist(filtered_positive_data, bins=50, color='green', edgecolor='black', label='Positive Values')\n",
    "plt.title('Histogram of NDVI Difference')\n",
    "plt.xlabel('NDVI Difference')\n",
    "plt.ylabel('Number of Pixels')\n",
    "plt.legend()"
   ]
  }
 ],
 "metadata": {
  "kernelspec": {
   "display_name": "Python 3",
   "language": "python",
   "name": "python3"
  },
  "language_info": {
   "codemirror_mode": {
    "name": "ipython",
    "version": 3
   },
   "file_extension": ".py",
   "mimetype": "text/x-python",
   "name": "python",
   "nbconvert_exporter": "python",
   "pygments_lexer": "ipython3",
   "version": "3.8.10"
  },
  "orig_nbformat": 4
 },
 "nbformat": 4,
 "nbformat_minor": 2
}
