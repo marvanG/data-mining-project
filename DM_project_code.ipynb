{
 "cells": [
  {
   "cell_type": "code",
   "execution_count": 1,
   "metadata": {
    "ExecuteTime": {
     "end_time": "2023-10-02T07:59:05.887978Z",
     "start_time": "2023-10-02T07:59:05.880308Z"
    }
   },
   "outputs": [],
   "source": [
    "# Data mining project: Deforestation/Reforestation visualization and clustering\n",
    "import ee\n",
    "\n",
    "# Authenticate to Earth Engine\n",
    "# ee.Authenticate() # You only need to do this once"
   ]
  },
  {
   "cell_type": "code",
   "execution_count": 2,
   "metadata": {
    "ExecuteTime": {
     "end_time": "2023-10-02T11:09:57.421061Z",
     "start_time": "2023-10-02T11:09:53.635075Z"
    },
    "collapsed": false
   },
   "outputs": [
    {
     "data": {
      "application/vnd.jupyter.widget-view+json": {
       "model_id": "bf988e3251864695a3d0c554894a2a6f",
       "version_major": 2,
       "version_minor": 0
      },
      "text/plain": [
       "Map(center=[20, 0], controls=(WidgetControl(options=['position', 'transparent_bg'], widget=HBox(children=(Togg…"
      ]
     },
     "execution_count": 2,
     "metadata": {},
     "output_type": "execute_result"
    }
   ],
   "source": [
    "import ee\n",
    "import geemap\n",
    "\n",
    "# Initialize the Earth Engine\n",
    "ee.Initialize()\n",
    "\n",
    "# Create an interactive map\n",
    "MapHansen = geemap.Map()\n",
    "\n",
    "# Define the dataset\n",
    "dataset = ee.Image('UMD/hansen/global_forest_change_2022_v1_10')\n",
    "#give me the the columns of the dataset\n",
    "\n",
    "\n",
    "# Visualization parameters for tree cover\n",
    "treeCoverVisParam = {\n",
    "    'bands': ['treecover2000'],\n",
    "    'min': 0,\n",
    "    'max': 100,\n",
    "    'palette': ['black', 'green']\n",
    "}\n",
    "\n",
    "# Add tree cover layer to the map\n",
    "MapHansen.addLayer(dataset, treeCoverVisParam, 'tree cover')\n",
    "\n",
    "# Visualization parameters for tree loss year\n",
    "treeLossVisParam = {\n",
    "    'bands': ['lossyear'],\n",
    "    'min': 0,\n",
    "    'max': 22,\n",
    "    'palette': ['yellow', 'red']\n",
    "}\n",
    "\n",
    "# Add tree loss year layer to the map\n",
    "MapHansen.addLayer(dataset, treeLossVisParam, 'tree loss year')\n",
    "\n",
    "# Display the map\n",
    "MapHansen.addLayerControl()\n",
    "MapHansen\n"
   ]
  },
  {
   "cell_type": "code",
   "execution_count": 3,
   "metadata": {
    "ExecuteTime": {
     "end_time": "2023-10-02T11:09:57.423113Z",
     "start_time": "2023-10-02T11:09:57.419888Z"
    }
   },
   "outputs": [
    {
     "name": "stdout",
     "output_type": "stream",
     "text": [
      "ee.Image({\n",
      "  \"functionInvocationValue\": {\n",
      "    \"functionName\": \"Image.load\",\n",
      "    \"arguments\": {\n",
      "      \"id\": {\n",
      "        \"constantValue\": \"UMD/hansen/global_forest_change_2022_v1_10\"\n",
      "      }\n",
      "    }\n",
      "  }\n",
      "})\n"
     ]
    }
   ],
   "source": [
    "# look at the dataset and print some interesting information.\n",
    "print(dataset)"
   ]
  },
  {
   "cell_type": "code",
   "execution_count": 4,
   "metadata": {
    "ExecuteTime": {
     "end_time": "2023-10-02T11:09:57.684184Z",
     "start_time": "2023-10-02T11:09:57.420820Z"
    },
    "collapsed": false
   },
   "outputs": [
    {
     "name": "stdout",
     "output_type": "stream",
     "text": [
      "Complete dataset with for loop\n"
     ]
    }
   ],
   "source": [
    "dataset_info = dataset.getInfo()\n",
    "bands = dataset_info['bands']\n",
    "\n",
    "print(\"Complete dataset with for loop\")\n",
    "\n",
    "# for key, value in dataset_info.items():\n",
    "#     print(key, ':', value)\n",
    "#     print(\"\\n\")\n",
    "\n",
    "\n",
    "\n",
    "\n",
    "# print(\"Complete bands without for loop\")\n",
    "# print(bands ,\"\\n\")\n",
    "# print(\"\\n \\n \\n\")\n",
    "\n",
    "\n",
    "# print(\"Complete bands with for loop\")\n",
    "# for band in bands:\n",
    "#     print(band)\n",
    "\n",
    "  "
   ]
  },
  {
   "cell_type": "code",
   "execution_count": 5,
   "metadata": {
    "ExecuteTime": {
     "end_time": "2023-10-02T11:09:58.790568Z",
     "start_time": "2023-10-02T11:09:57.685627Z"
    },
    "collapsed": false
   },
   "outputs": [
    {
     "data": {
      "application/vnd.jupyter.widget-view+json": {
       "model_id": "f508d81c725f44c4847b3a97031b53d6",
       "version_major": 2,
       "version_minor": 0
      },
      "text/plain": [
       "Map(center=[46.529, 6.746], controls=(WidgetControl(options=['position', 'transparent_bg'], widget=HBox(childr…"
      ]
     },
     "execution_count": 5,
     "metadata": {},
     "output_type": "execute_result"
    }
   ],
   "source": [
    "dataset_nasa = ee.ImageCollection('MODIS/061/MOD13A2').filter(ee.Filter.date('2000-01-01', '2022-01-01'))\n",
    "ndvi = dataset_nasa.select('NDVI')\n",
    "\n",
    "MapNasa = geemap.Map()\n",
    "\n",
    "\n",
    "\n",
    "ndviVis = {\n",
    "    'min': 0,\n",
    "    'max': 9000,\n",
    "    'palette': [\n",
    "        'ffffff', 'ce7e45', 'df923d', 'f1b555', 'fcd163', '99b718', '74a901',\n",
    "        '66a000', '529400', '3e8601', '207401', '056201', '004c00', '023b01',\n",
    "        '012e01', '011d01', '011301'    \n",
    "    ]\n",
    "}\n",
    "MapNasa.setCenter(6.746, 46.529, 2)\n",
    "MapNasa.addLayer(ndvi, ndviVis, 'NDVI')\n",
    "MapNasa\n"
   ]
  },
  {
   "cell_type": "code",
   "execution_count": 6,
   "metadata": {
    "ExecuteTime": {
     "end_time": "2023-10-02T11:10:00.579635Z",
     "start_time": "2023-10-02T11:09:58.791289Z"
    },
    "collapsed": false
   },
   "outputs": [],
   "source": [
    "#for loop of dataset_nasa_infoq\n",
    "dataset_nasa_info = dataset_nasa.getInfo()\n",
    "# print(\"the get info of dataset_nasa is: \\n\")\n",
    "# for key, value in dataset_nasa_info.items():\n",
    "#     print(key, ':', value)\n",
    "#     print(\"\\n\")"
   ]
  },
  {
   "cell_type": "code",
   "execution_count": 7,
   "metadata": {},
   "outputs": [
    {
     "name": "stdout",
     "output_type": "stream",
     "text": [
      "Shape of dataset_nasa: 503\n",
      "Number of columns in dataset_nasa_info: 6\n",
      "Column names in dataset_nasa_info: ['type', 'bands', 'version', 'id', 'properties', 'features']\n"
     ]
    }
   ],
   "source": [
    "print(f'Shape of dataset_nasa: {dataset_nasa.size().getInfo()}')\n",
    "print(f'Number of columns in dataset_nasa_info: {len(dataset_nasa_info)}')\n",
    "print(f'Column names in dataset_nasa_info: {list(dataset_nasa_info.keys())}')"
   ]
  },
  {
   "cell_type": "code",
   "execution_count": 8,
   "metadata": {
    "ExecuteTime": {
     "end_time": "2023-10-02T11:10:00.600030Z",
     "start_time": "2023-10-02T11:10:00.565224Z"
    },
    "collapsed": false
   },
   "outputs": [],
   "source": [
    "features = dataset_nasa_info['features']\n",
    "\n",
    "# for feature in features: #The amount of features grows the greater the interval for sampling is which you get from line 1 in the cell where you \n",
    "#     #selecte the dates\n",
    "#     print(feature)\n",
    "#     print(\"\\n\")\n",
    "    "
   ]
  }
 ],
 "metadata": {
  "kernelspec": {
   "display_name": "Python 3 (ipykernel)",
   "language": "python",
   "name": "python3"
  },
  "language_info": {
   "codemirror_mode": {
    "name": "ipython",
    "version": 3
   },
   "file_extension": ".py",
   "mimetype": "text/x-python",
   "name": "python",
   "nbconvert_exporter": "python",
   "pygments_lexer": "ipython3",
   "version": "3.8.10"
  }
 },
 "nbformat": 4,
 "nbformat_minor": 4
}
